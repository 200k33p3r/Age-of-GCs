{
 "cells": [
  {
   "cell_type": "code",
   "execution_count": 1,
   "metadata": {},
   "outputs": [],
   "source": [
    "import numpy as np"
   ]
  },
  {
   "cell_type": "code",
   "execution_count": 60,
   "metadata": {},
   "outputs": [],
   "source": [
    "def Error_prop(name, para, para_err, para_cali, V, V_err, VI, VI_err,EBV,A606=2.80,A814=1.82,Bright=True):\n",
    "    if Bright == True:\n",
    "        #reduce the calibration by half\n",
    "        para -= para_cali/2\n",
    "        para_err = np.sqrt(para_err**2 + para_cali**2)\n",
    "    V = V - 5*np.log10(1/(para/1000)) + 5\n",
    "    V_err = np.sqrt(V_err**2 + (5*para_err/(para*np.log(10)))**2)\n",
    "    VI = VI + EBV*(A606 - A814)\n",
    "    return name, V, V_err, VI, VI_err\n"
   ]
  },
  {
   "cell_type": "markdown",
   "metadata": {},
   "source": [
    "M92 data"
   ]
  },
  {
   "cell_type": "code",
   "execution_count": 61,
   "metadata": {},
   "outputs": [
    {
     "name": "stdout",
     "output_type": "stream",
     "text": [
      "HD46210 5.78666598971259 0.0030962952844035448 0.566 0.0023\n"
     ]
    }
   ],
   "source": [
    "name, para, para_err, para_cali, V, V_err, VI, VI_err, EBV = 'HD46210', 14.776, 0.014, -0.012, 9.938, 0.0015, 0.566, 0.0023, 0.0\n",
    "name, V, V_err, VI, VI_err = Error_prop(name, para, para_err, para_cali, V, V_err, VI, VI_err, EBV,A606=2.80,A814=1.82,Bright=True)\n",
    "print(name, V, V_err, VI, VI_err)"
   ]
  },
  {
   "cell_type": "code",
   "execution_count": 62,
   "metadata": {},
   "outputs": [
    {
     "name": "stdout",
     "output_type": "stream",
     "text": [
      "HD106294 6.0406504222525275 0.004137218232627013 0.601 0.0054\n"
     ]
    }
   ],
   "source": [
    "name, para, para_err, para_cali, V, V_err, VI, VI_err, EBV = 'HD106294', 15.019, 0.012, -0.02, 10.156, 0.0024, 0.601, 0.0054, 0.0\n",
    "name, V, V_err, VI, VI_err = Error_prop(name, para, para_err, para_cali, V, V_err, VI, VI_err, EBV,A606=2.80,A814=1.82,Bright=True)\n",
    "print(name, V, V_err, VI, VI_err)"
   ]
  },
  {
   "cell_type": "markdown",
   "metadata": {},
   "source": [
    " M55 data"
   ]
  },
  {
   "cell_type": "code",
   "execution_count": 63,
   "metadata": {},
   "outputs": [
    {
     "name": "stdout",
     "output_type": "stream",
     "text": [
      "HD103269 5.809865448750887 0.004891345643187192 0.581 0.0043\n"
     ]
    }
   ],
   "source": [
    "name, para, para_err, para_cali, V, V_err, VI, VI_err, EBV = 'HD103269',13.9596, 0.0118,  -0.0193, 10.084, 0.0034, 0.581 , 0.0043, 0.0\n",
    "name, V, V_err, VI, VI_err = Error_prop(name, para, para_err, para_cali, V, V_err, VI, VI_err, EBV,A606=2.80,A814=1.82,Bright=True)\n",
    "print(name, V, V_err, VI, VI_err)"
   ]
  },
  {
   "cell_type": "code",
   "execution_count": 74,
   "metadata": {},
   "outputs": [
    {
     "name": "stdout",
     "output_type": "stream",
     "text": [
      "HD108200 6.24954492604976 0.0057776674835459466 0.6626 0.0063\n"
     ]
    }
   ],
   "source": [
    "name, para, para_err, para_cali, V, V_err, VI, VI_err, EBV = 'HD108200', 12.37327, 0.0137, -0.0242, 10.785, 0.0031, 0.643, 0.0063, 0.02\n",
    "name, V, V_err, VI, VI_err = Error_prop(name, para, para_err, para_cali, V, V_err, VI, VI_err, EBV,A606=2.80,A814=1.82,Bright=True)\n",
    "print(name, V, V_err, VI, VI_err)"
   ]
  },
  {
   "cell_type": "markdown",
   "metadata": {},
   "source": [
    "M15 data"
   ]
  },
  {
   "cell_type": "code",
   "execution_count": null,
   "metadata": {},
   "outputs": [],
   "source": [
    "name, para, para_err, para_cali, V, V_err, VI, VI_err, EBV = 'HD103269',13.9596, 0.0118,  -0.0193, 10.084, 0.0034, 0.581 , 0.0043, 0.0\n",
    "name, V, V_err, VI, VI_err = Error_prop(name, para, para_err, para_cali, V, V_err, VI, VI_err, EBV,A606=2.80,A814=1.82,Bright=True)\n",
    "print(name, V, V_err, VI, VI_err)"
   ]
  }
 ],
 "metadata": {
  "kernelspec": {
   "display_name": "Python 3 (ipykernel)",
   "language": "python",
   "name": "python3"
  },
  "language_info": {
   "codemirror_mode": {
    "name": "ipython",
    "version": 3
   },
   "file_extension": ".py",
   "mimetype": "text/x-python",
   "name": "python",
   "nbconvert_exporter": "python",
   "pygments_lexer": "ipython3",
   "version": "3.10.13"
  }
 },
 "nbformat": 4,
 "nbformat_minor": 2
}
