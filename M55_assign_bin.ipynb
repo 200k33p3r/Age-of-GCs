{
 "cells": [
  {
   "cell_type": "code",
   "execution_count": null,
   "metadata": {},
   "outputs": [],
   "source": [
    "import pandas as pd\n",
    "import numpy as np\n",
    "import matplotlib.pyplot as plt\n",
    "import os\n",
    "import time\n",
    "plt.rc('text', usetex=True)\n",
    "plt.rc('font', family='Serif')\n",
    "\n",
    "import matplotlib as mpl \n",
    "mpl.rcParams['figure.figsize'] = [10, 7]\n",
    "mpl.rcParams['font.size'] = 27\n",
    "\n",
    "mpl.rcParams['savefig.dpi'] = 150 \n",
    "mpl.rcParams['xtick.minor.visible'] = True\n",
    "mpl.rcParams['ytick.minor.visible'] = True\n",
    "mpl.rcParams['xtick.direction'] = 'in'\n",
    "mpl.rcParams['ytick.direction'] = 'in'\n",
    "\n",
    "mpl.rcParams['xtick.top'] = True\n",
    "mpl.rcParams['ytick.right'] = True\n",
    "\n",
    "mpl.rcParams['xtick.major.size'] = 10 \n",
    "mpl.rcParams['xtick.minor.size'] = 5 \n",
    "\n",
    "mpl.rcParams['ytick.major.size'] = 10 \n",
    "mpl.rcParams['ytick.minor.size'] = 5 \n",
    "\n",
    "mpl.rcParams['xtick.labelsize'] = 23\n",
    "mpl.rcParams['ytick.labelsize'] = 23"
   ]
  },
  {
   "cell_type": "code",
   "execution_count": null,
   "metadata": {},
   "outputs": [],
   "source": [
    "M55_path = 'C:\\\\Users\\\\marti\\\\Desktop\\\\school work\\\\Dartmouth\\\\GC_ages\\\\M55'"
   ]
  },
  {
   "cell_type": "code",
   "execution_count": null,
   "metadata": {},
   "outputs": [],
   "source": [
    "AS_center = [3005.49976,2997.75391]\n",
    "OBS_center = [2995.02393,3020.84351]\n",
    "V_diff=30.98\n",
    "I_diff = V_diff-0.737"
   ]
  },
  {
   "cell_type": "code",
   "execution_count": null,
   "metadata": {},
   "outputs": [],
   "source": [
    "M55_fitstars = pd.read_csv(\"{}\\\\M55_fitstars.dat\".format(M55_path),sep=',')"
   ]
  },
  {
   "cell_type": "code",
   "execution_count": null,
   "metadata": {},
   "outputs": [],
   "source": [
    "def find_fit_val(arr,x):\n",
    "    for idx in range(len(arr)):\n",
    "        if x < arr[idx]:\n",
    "            return arr[idx]\n",
    "    return arr[-1]"
   ]
  },
  {
   "cell_type": "code",
   "execution_count": null,
   "metadata": {},
   "outputs": [],
   "source": [
    "df_V_bound = pd.read_csv(\"{}\\\\inputfiles\\\\VerrBoundary.dat\".format(M55_path),sep='\\s+',skiprows=3, names=['Rad', 'Mag', 'Nstar', 'Completness'])\n",
    "Rad_bounds = np.sort(np.unique(df_V_bound['Rad'].values))\n",
    "V_mag_bounds = np.sort(np.unique(df_V_bound['Mag'].values))\n",
    "rad = np.sqrt((M55_fitstars['x'].values - OBS_center[0])**2 + (M55_fitstars['y'].values - OBS_center[1])**2)"
   ]
  },
  {
   "cell_type": "code",
   "execution_count": null,
   "metadata": {},
   "outputs": [],
   "source": [
    "V_bin = []\n",
    "for i in range(len(M55_fitstars)):\n",
    "    min_V=find_fit_val(V_mag_bounds,M55_fitstars['v'].values[i] - V_diff)\n",
    "    min_r = find_fit_val(Rad_bounds,rad[i])\n",
    "    for j in range(len(df_V_bound)):\n",
    "        if (np.abs(df_V_bound['Rad'].values[j] - min_r) < 0.01) & (np.abs(df_V_bound['Mag'].values[j] - min_V) < 0.01):\n",
    "            V_bin.append(j+1)\n",
    "            break"
   ]
  },
  {
   "cell_type": "code",
   "execution_count": null,
   "metadata": {},
   "outputs": [],
   "source": [
    "df_I_bound = pd.read_csv(\"{}\\\\inputfiles\\\\IerrBoundary.dat\".format(M55_path),sep='\\s+',skiprows=3, names=['Rad', 'Mag', 'Nstar', 'Completness'])\n",
    "Rad_bounds = np.sort(np.unique(df_I_bound['Rad'].values))\n",
    "I_mag_bounds = np.sort(np.unique(df_I_bound['Mag'].values))\n",
    "rad = np.sqrt((M55_fitstars['x'].values - OBS_center[0])**2 + (M55_fitstars['y'].values - OBS_center[1])**2)"
   ]
  },
  {
   "cell_type": "code",
   "execution_count": null,
   "metadata": {},
   "outputs": [],
   "source": [
    "I_bin = []\n",
    "for i in range(len(M55_fitstars)):\n",
    "    min_I = find_fit_val(I_mag_bounds,M55_fitstars['i'].values[i] - I_diff)\n",
    "    min_r = find_fit_val(Rad_bounds,rad[i])\n",
    "    for j in range(len(df_I_bound)):\n",
    "        if (np.abs(df_I_bound['Rad'].values[j] - min_r) < 0.01) & (np.abs(df_I_bound['Mag'].values[j] - min_I) < 0.01):\n",
    "            I_bin.append(j+1)\n",
    "            break"
   ]
  },
  {
   "cell_type": "code",
   "execution_count": null,
   "metadata": {},
   "outputs": [],
   "source": [
    "M55_fitstars['Vbin'] = V_bin\n",
    "M55_fitstars['Ibin'] = I_bin"
   ]
  },
  {
   "cell_type": "code",
   "execution_count": null,
   "metadata": {},
   "outputs": [],
   "source": [
    "M55_fitstars.to_csv(\"{}\\\\M55_fitstars_with_bins.dat\".format(M55_path))"
   ]
  }
 ],
 "metadata": {
  "kernelspec": {
   "display_name": "Python 3",
   "language": "python",
   "name": "python3"
  },
  "language_info": {
   "codemirror_mode": {
    "name": "ipython",
    "version": 3
   },
   "file_extension": ".py",
   "mimetype": "text/x-python",
   "name": "python",
   "nbconvert_exporter": "python",
   "pygments_lexer": "ipython3",
   "version": "3.10.11"
  },
  "orig_nbformat": 4
 },
 "nbformat": 4,
 "nbformat_minor": 2
}
