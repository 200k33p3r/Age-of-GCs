{
 "cells": [
  {
   "cell_type": "code",
   "execution_count": null,
   "metadata": {},
   "outputs": [],
   "source": [
    "import pandas as pd\n",
    "import numpy as np\n",
    "import matplotlib.pyplot as plt\n",
    "import os\n",
    "import time\n",
    "plt.rc('text', usetex=True)\n",
    "plt.rc('font', family='Serif')\n",
    "\n",
    "import matplotlib as mpl \n",
    "mpl.rcParams['figure.figsize'] = [10, 7]\n",
    "mpl.rcParams['font.size'] = 27\n",
    "\n",
    "mpl.rcParams['savefig.dpi'] = 150 \n",
    "mpl.rcParams['xtick.minor.visible'] = True\n",
    "mpl.rcParams['ytick.minor.visible'] = True\n",
    "mpl.rcParams['xtick.direction'] = 'in'\n",
    "mpl.rcParams['ytick.direction'] = 'in'\n",
    "\n",
    "mpl.rcParams['xtick.top'] = True\n",
    "mpl.rcParams['ytick.right'] = True\n",
    "\n",
    "mpl.rcParams['xtick.major.size'] = 10 \n",
    "mpl.rcParams['xtick.minor.size'] = 5 \n",
    "\n",
    "mpl.rcParams['ytick.major.size'] = 10 \n",
    "mpl.rcParams['ytick.minor.size'] = 5 \n",
    "\n",
    "mpl.rcParams['xtick.labelsize'] = 23\n",
    "mpl.rcParams['ytick.labelsize'] = 23"
   ]
  },
  {
   "cell_type": "code",
   "execution_count": null,
   "metadata": {},
   "outputs": [],
   "source": [
    "data_path = os.getcwd()\n",
    "GC_name = 'M15'\n",
    "AS_center = [2996.4582282453644,2998.7104172610557]\n",
    "OBS_center = [3004.642830372493,3002.2641217765045]\n",
    "V_diff=31.86\n",
    "I_diff = V_diff-0.713"
   ]
  },
  {
   "cell_type": "code",
   "execution_count": null,
   "metadata": {},
   "outputs": [],
   "source": [
    "fitstars = pd.read_csv(\"{}/{}_fitstars.dat\".format(data_path,GC_name),sep=',')"
   ]
  },
  {
   "cell_type": "code",
   "execution_count": null,
   "metadata": {},
   "outputs": [],
   "source": [
    "print(\"V max = {}\".format(max(fitstars['v'].values)))\n",
    "print(\"V min = {}\".format(min(fitstars['v'].values)))\n",
    "print(\"VI max = {}\".format(max(fitstars['vi'].values)))\n",
    "print(\"VI min = {}\".format(min(fitstars['vi'].values)))"
   ]
  },
  {
   "cell_type": "code",
   "execution_count": null,
   "metadata": {},
   "outputs": [],
   "source": [
    "def find_fit_val(arr,x):\n",
    "    for idx in range(len(arr)):\n",
    "        if x < arr[idx]:\n",
    "            return arr[idx]\n",
    "    return arr[-1]"
   ]
  },
  {
   "cell_type": "code",
   "execution_count": null,
   "metadata": {},
   "outputs": [],
   "source": [
    "df_V_bound = pd.read_csv(\"{}/../Photometry/{}_inputfiles/VerrBoundary.dat\".format(data_path,GC_name),sep='\\s+',skiprows=3, names=['Rad', 'Mag', 'Nstar', 'Completness'])\n",
    "Rad_bounds = np.sort(np.unique(df_V_bound['Rad'].values))\n",
    "V_mag_bounds = np.sort(np.unique(df_V_bound['Mag'].values))\n",
    "rad = np.sqrt((fitstars['x'].values - OBS_center[0])**2 + (fitstars['y'].values - OBS_center[1])**2)"
   ]
  },
  {
   "cell_type": "code",
   "execution_count": null,
   "metadata": {},
   "outputs": [],
   "source": [
    "V_bin = []\n",
    "for i in range(len(fitstars)):\n",
    "    min_V=find_fit_val(V_mag_bounds,fitstars['v'].values[i] - V_diff)\n",
    "    min_r = find_fit_val(Rad_bounds,rad[i])\n",
    "    for j in range(len(df_V_bound)):\n",
    "        if (np.abs(df_V_bound['Rad'].values[j] - min_r) < 0.01) & (np.abs(df_V_bound['Mag'].values[j] - min_V) < 0.01):\n",
    "            V_bin.append(j+1)\n",
    "            break"
   ]
  },
  {
   "cell_type": "code",
   "execution_count": null,
   "metadata": {},
   "outputs": [],
   "source": [
    "df_I_bound = pd.read_csv(\"{}/../Photometry/{}_inputfiles/IerrBoundary.dat\".format(data_path,GC_name),sep='\\s+',skiprows=3, names=['Rad', 'Mag', 'Nstar', 'Completness'])\n",
    "Rad_bounds = np.sort(np.unique(df_I_bound['Rad'].values))\n",
    "I_mag_bounds = np.sort(np.unique(df_I_bound['Mag'].values))\n",
    "rad = np.sqrt((fitstars['x'].values - OBS_center[0])**2 + (fitstars['y'].values - OBS_center[1])**2)"
   ]
  },
  {
   "cell_type": "code",
   "execution_count": null,
   "metadata": {},
   "outputs": [],
   "source": [
    "I_bin = []\n",
    "for i in range(len(fitstars)):\n",
    "    min_I = find_fit_val(I_mag_bounds,fitstars['i'].values[i] - I_diff)\n",
    "    min_r = find_fit_val(Rad_bounds,rad[i])\n",
    "    for j in range(len(df_I_bound)):\n",
    "        if (np.abs(df_I_bound['Rad'].values[j] - min_r) < 0.01) & (np.abs(df_I_bound['Mag'].values[j] - min_I) < 0.01):\n",
    "            I_bin.append(j+1)\n",
    "            break"
   ]
  },
  {
   "cell_type": "code",
   "execution_count": null,
   "metadata": {},
   "outputs": [],
   "source": [
    "fitstars['Vbin'] = V_bin\n",
    "fitstars['Ibin'] = I_bin"
   ]
  },
  {
   "cell_type": "code",
   "execution_count": null,
   "metadata": {},
   "outputs": [],
   "source": [
    "fitstars.to_csv(\"{}/{}_fitstars_with_bins.dat\".format(data_path,GC_name))"
   ]
  },
  {
   "cell_type": "code",
   "execution_count": null,
   "metadata": {},
   "outputs": [],
   "source": []
  }
 ],
 "metadata": {
  "kernelspec": {
   "display_name": "Python 3",
   "language": "python",
   "name": "python3"
  },
  "language_info": {
   "codemirror_mode": {
    "name": "ipython",
    "version": 3
   },
   "file_extension": ".py",
   "mimetype": "text/x-python",
   "name": "python",
   "nbconvert_exporter": "python",
   "pygments_lexer": "ipython3",
   "version": "3.10.11"
  }
 },
 "nbformat": 4,
 "nbformat_minor": 2
}
