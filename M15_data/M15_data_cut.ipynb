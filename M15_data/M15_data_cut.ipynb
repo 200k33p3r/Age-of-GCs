{
 "cells": [
  {
   "cell_type": "code",
   "execution_count": null,
   "metadata": {},
   "outputs": [],
   "source": [
    "import pandas as pd\n",
    "import numpy as np\n",
    "import matplotlib.pyplot as plt\n",
    "import os\n",
    "import time\n",
    "from scipy.interpolate import CubicSpline\n",
    "plt.rc('text', usetex=True)\n",
    "plt.rc('font', family='Serif')\n",
    "\n",
    "import matplotlib as mpl \n",
    "mpl.rcParams['figure.figsize'] = [9, 9]\n",
    "mpl.rcParams['font.size'] = 27\n",
    "\n",
    "mpl.rcParams['savefig.dpi'] = 150 \n",
    "mpl.rcParams['xtick.minor.visible'] = True\n",
    "mpl.rcParams['ytick.minor.visible'] = True\n",
    "mpl.rcParams['xtick.direction'] = 'in'\n",
    "mpl.rcParams['ytick.direction'] = 'in'\n",
    "\n",
    "mpl.rcParams['xtick.top'] = True\n",
    "mpl.rcParams['ytick.right'] = True\n",
    "\n",
    "mpl.rcParams['xtick.major.size'] = 10 \n",
    "mpl.rcParams['xtick.minor.size'] = 5 \n",
    "\n",
    "mpl.rcParams['ytick.major.size'] = 10 \n",
    "mpl.rcParams['ytick.minor.size'] = 5 \n",
    "\n",
    "mpl.rcParams['xtick.labelsize'] = 23\n",
    "mpl.rcParams['ytick.labelsize'] = 23"
   ]
  },
  {
   "cell_type": "code",
   "execution_count": null,
   "metadata": {},
   "outputs": [],
   "source": [
    "GC_name = 'M15'\n",
    "path = os.getcwd()\n",
    "df = pd.read_csv(\"{}/{}.dat\".format(path,GC_name),sep='\\s+')"
   ]
  },
  {
   "cell_type": "code",
   "execution_count": null,
   "metadata": {},
   "outputs": [],
   "source": [
    "plt.scatter(df['x'],df['y'],s=0.1);"
   ]
  },
  {
   "cell_type": "code",
   "execution_count": null,
   "metadata": {},
   "outputs": [],
   "source": [
    "#determin center\n",
    "x_guess,y_guess = 3000,3000\n",
    "radius = 200\n",
    "def centeroidnp(df):\n",
    "    fit_stars = df[((df['x']-x_guess)**2 + (df['y']-y_guess)**2) < radius**2]\n",
    "    length = len(fit_stars)\n",
    "    x = fit_stars['x'].values\n",
    "    y = fit_stars['y'].values\n",
    "    sum_x = np.sum(x)\n",
    "    sum_y = np.sum(y)\n",
    "    return sum_x/length, sum_y/length\n",
    "x_cen, y_cen = centeroidnp(df)\n",
    "print(\"X Center is: {}\".format(x_cen))\n",
    "print(\"Y Center is: {}\".format(y_cen))"
   ]
  },
  {
   "cell_type": "code",
   "execution_count": null,
   "metadata": {},
   "outputs": [],
   "source": [
    "#determine MSTO and SGB\n",
    "plt.scatter(df['VIvega'],df['Vvega'],s=0.1,alpha=0.5,c='grey')\n",
    "plt.xlim(0.4,0.8)\n",
    "plt.ylim(17.5,20.5)\n",
    "plt.scatter(0.478,19.4,s=0.7,c='r',label='MSTO')\n",
    "plt.scatter(0.478+0.05,18.85,s=0.7,c='b',label='SGB')\n",
    "plt.legend()\n",
    "plt.gca().invert_yaxis()"
   ]
  },
  {
   "cell_type": "markdown",
   "metadata": {},
   "source": [
    "$$\\textup{V}_{\\textup{MSTO}} = 19.4$$\n",
    "$$\\textup{VI}_{\\textup{MSTO}} = 0.478$$\n",
    "$$\\textup{V}_{\\textup{SGB}} = 18.85$$\n",
    "$$\\textup{VI}_{\\textup{SGB}} = 0.483$$"
   ]
  },
  {
   "cell_type": "code",
   "execution_count": null,
   "metadata": {},
   "outputs": [],
   "source": [
    "#plot the v vs i image within 3.5 mag from sgb\n",
    "V_sgb = 18.85\n",
    "V_min = V_sgb - 3.5\n",
    "V_max = V_sgb + 3.5\n",
    "df_first_cut = df[(df['Vvega'] < V_max) & (df['Vvega'] > V_min)]\n",
    "plt.scatter(df_first_cut['Vvega'],df_first_cut['Ivega'],s=0.0001)\n",
    "plt.xlim(V_min, V_max)\n",
    "plt.ylim(14.4,21.9)\n",
    "plt.savefig(\"{}/vi.png\".format(path),dpi=500);"
   ]
  }
 ],
 "metadata": {
  "kernelspec": {
   "display_name": "Python 3",
   "language": "python",
   "name": "python3"
  },
  "language_info": {
   "codemirror_mode": {
    "name": "ipython",
    "version": 3
   },
   "file_extension": ".py",
   "mimetype": "text/x-python",
   "name": "python",
   "nbconvert_exporter": "python",
   "pygments_lexer": "ipython3",
   "version": "3.10.11"
  }
 },
 "nbformat": 4,
 "nbformat_minor": 2
}
