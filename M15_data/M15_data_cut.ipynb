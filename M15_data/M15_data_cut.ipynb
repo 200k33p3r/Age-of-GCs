{
 "cells": [
  {
   "cell_type": "code",
   "execution_count": null,
   "metadata": {},
   "outputs": [],
   "source": [
    "import pandas as pd\n",
    "import numpy as np\n",
    "import matplotlib.pyplot as plt\n",
    "import os\n",
    "import time\n",
    "from scipy.interpolate import CubicSpline\n",
    "plt.rc('text', usetex=True)\n",
    "plt.rc('font', family='Serif')\n",
    "\n",
    "import matplotlib as mpl \n",
    "mpl.rcParams['figure.figsize'] = [9, 9]\n",
    "mpl.rcParams['font.size'] = 27\n",
    "\n",
    "mpl.rcParams['savefig.dpi'] = 150 \n",
    "mpl.rcParams['xtick.minor.visible'] = True\n",
    "mpl.rcParams['ytick.minor.visible'] = True\n",
    "mpl.rcParams['xtick.direction'] = 'in'\n",
    "mpl.rcParams['ytick.direction'] = 'in'\n",
    "\n",
    "mpl.rcParams['xtick.top'] = True\n",
    "mpl.rcParams['ytick.right'] = True\n",
    "\n",
    "mpl.rcParams['xtick.major.size'] = 10 \n",
    "mpl.rcParams['xtick.minor.size'] = 5 \n",
    "\n",
    "mpl.rcParams['ytick.major.size'] = 10 \n",
    "mpl.rcParams['ytick.minor.size'] = 5 \n",
    "\n",
    "mpl.rcParams['xtick.labelsize'] = 23\n",
    "mpl.rcParams['ytick.labelsize'] = 23"
   ]
  },
  {
   "cell_type": "code",
   "execution_count": null,
   "metadata": {},
   "outputs": [],
   "source": [
    "GC_name = 'M15'\n",
    "path = os.getcwd()\n",
    "df = pd.read_csv(\"{}/{}.dat\".format(path,GC_name),sep='\\s+')"
   ]
  },
  {
   "cell_type": "code",
   "execution_count": null,
   "metadata": {},
   "outputs": [],
   "source": [
    "plt.scatter(df['x'],df['y'],s=0.1);"
   ]
  },
  {
   "cell_type": "code",
   "execution_count": null,
   "metadata": {},
   "outputs": [],
   "source": [
    "#determin center\n",
    "x_guess,y_guess = 3000,3000\n",
    "radius = 200\n",
    "def centeroidnp(df):\n",
    "    fit_stars = df[((df['x']-x_guess)**2 + (df['y']-y_guess)**2) < radius**2]\n",
    "    length = len(fit_stars)\n",
    "    x = fit_stars['x'].values\n",
    "    y = fit_stars['y'].values\n",
    "    sum_x = np.sum(x)\n",
    "    sum_y = np.sum(y)\n",
    "    return sum_x/length, sum_y/length\n",
    "x_cen, y_cen = centeroidnp(df)\n",
    "print(\"X Center is: {}\".format(x_cen))\n",
    "print(\"Y Center is: {}\".format(y_cen))"
   ]
  },
  {
   "cell_type": "code",
   "execution_count": null,
   "metadata": {},
   "outputs": [],
   "source": [
    "#determine MSTO and SGB\n",
    "plt.scatter(df['VIvega'],df['Vvega'],s=0.1,alpha=0.5,c='grey')\n",
    "plt.xlim(0.4,0.8)\n",
    "plt.ylim(17.5,20.5)\n",
    "plt.scatter(0.478,19.4,s=0.7,c='r',label='MSTO')\n",
    "plt.scatter(0.478+0.05,18.85,s=0.7,c='b',label='SGB')\n",
    "plt.legend()\n",
    "plt.gca().invert_yaxis()"
   ]
  },
  {
   "cell_type": "markdown",
   "metadata": {},
   "source": [
    "$$\\textup{V}_{\\textup{MSTO}} = 19.4$$\n",
    "$$\\textup{VI}_{\\textup{MSTO}} = 0.478$$\n",
    "$$\\textup{V}_{\\textup{SGB}} = 18.85$$\n",
    "$$\\textup{VI}_{\\textup{SGB}} = 0.528$$"
   ]
  },
  {
   "cell_type": "code",
   "execution_count": null,
   "metadata": {},
   "outputs": [],
   "source": [
    "#plot the v vs i image within 3.5 mag from sgb\n",
    "V_sgb = 18.85\n",
    "V_min = V_sgb - 3.5\n",
    "V_max = V_sgb + 3.5\n",
    "df_first_cut = df[(df['Vvega'] < V_max) & (df['Vvega'] > V_min)]\n",
    "plt.scatter(df_first_cut['Vvega'],df_first_cut['Ivega'],s=0.0001)\n",
    "plt.xlim(V_min, V_max)\n",
    "plt.ylim(14.4,21.9)\n",
    "#plt.savefig(\"{}/vi.png\".format(path),dpi=500);"
   ]
  },
  {
   "cell_type": "code",
   "execution_count": null,
   "metadata": {},
   "outputs": [],
   "source": [
    "#Selected ridgeline points\n",
    "ridgeline = pd.read_csv(\"{}/{}_ridgeline_points.csv\".format(path,GC_name),names=['Vvega','Ivega'])"
   ]
  },
  {
   "cell_type": "code",
   "execution_count": null,
   "metadata": {},
   "outputs": [],
   "source": [
    "df_first_cut = df[(df['Vvega'] < V_max) & (df['Vvega'] > V_min)]\n",
    "vp = ridgeline['Vvega'].values\n",
    "ip = ridgeline['Ivega'].values\n",
    "plt.scatter(df_first_cut['Vvega'],df_first_cut['Ivega'],s=0.1)\n",
    "plt.xlabel('Vvega')\n",
    "plt.ylabel('Ivega')\n",
    "plt.plot(vp,ip,c='r');"
   ]
  },
  {
   "cell_type": "code",
   "execution_count": null,
   "metadata": {},
   "outputs": [],
   "source": [
    "Vvega = df_first_cut['Vvega'].values\n",
    "Ivega = df_first_cut['Ivega'].values\n",
    "VIvega = df_first_cut['VIvega'].values\n",
    "d = []\n",
    "mag_cut = 0.16\n",
    "for i in range(len(Ivega)):\n",
    "    x = Ivega[i]\n",
    "    y = Vvega[i]\n",
    "    Vvega_needed = np.interp(x,ip,vp) #new linear interpolation\n",
    "    Ivega_needed = np.interp(y,vp,ip)\n",
    "    #use slightly bigger cut to avoid deleting too much points. A finer cut will be applied once the fiducial cmd is generated\n",
    "    if (((Vvega_needed + mag_cut) > Vvega[i]) & (Vvega[i] > (Vvega_needed - mag_cut))) & (((Ivega_needed + mag_cut) > Ivega[i]) & (Ivega[i] > (Ivega_needed - mag_cut))):\n",
    "        d.append(df_first_cut.iloc[i][['Vvega','err','Ivega','err.2','VIvega','err.1','x','y']].values.tolist())\n",
    "df_second_cut = pd.DataFrame(d,columns=['v','v_err','i','i_err','vi','vi_err','x','y'])"
   ]
  },
  {
   "cell_type": "code",
   "execution_count": null,
   "metadata": {},
   "outputs": [],
   "source": [
    "plt.scatter(df_second_cut['vi'],df_second_cut['v'],s=0.1,c='b')\n",
    "plt.plot(vp-ip,vp,c='r')\n",
    "plt.gca().invert_yaxis();"
   ]
  },
  {
   "cell_type": "code",
   "execution_count": null,
   "metadata": {},
   "outputs": [],
   "source": [
    "df_second_cut.to_csv(\"{}/{}_fitstars_cmd.dat\".format(path,GC_name),sep=',',index=False)"
   ]
  },
  {
   "cell_type": "code",
   "execution_count": null,
   "metadata": {},
   "outputs": [],
   "source": [
    "ridgeline = pd.read_csv(\"{}/fiducial_lines.csv\".format(path))"
   ]
  },
  {
   "cell_type": "code",
   "execution_count": null,
   "metadata": {},
   "outputs": [],
   "source": [
    "#plot the v vs i image within 3.5 mag from sgb\n",
    "V_min = V_sgb - 3.5\n",
    "V_max = V_sgb + 3.5\n",
    "df_first_cut = df[(df['Vvega'] < V_max) & (df['Vvega'] > V_min)]\n",
    "vp = ridgeline['v'].values\n",
    "ip = ridgeline['v'].values - ridgeline['vi'].values\n",
    "if vp[0] > vp[-1]:\n",
    "    vp = np.flip(vp)\n",
    "if ip[0] > ip[-1]:\n",
    "    ip = np.flip(ip)\n",
    "plt.scatter(df_first_cut['Vvega'],df_first_cut['Ivega'],s=0.1)\n",
    "plt.xlabel('Vvega')\n",
    "plt.ylabel('Ivega')\n",
    "plt.plot(vp,ip,c='r')"
   ]
  },
  {
   "cell_type": "code",
   "execution_count": null,
   "metadata": {},
   "outputs": [],
   "source": [
    "plt.scatter(df_first_cut['Vvega'] - df_first_cut['Ivega'],df_first_cut['Vvega'],s=0.1)\n",
    "plt.xlabel('Vvega')\n",
    "plt.ylabel('Ivega')\n",
    "plt.plot(vp - ip,vp,c='r')\n",
    "plt.xlim(0.4,1)\n",
    "#plt.ylim(16,19)\n",
    "plt.gca().invert_yaxis();"
   ]
  },
  {
   "cell_type": "code",
   "execution_count": null,
   "metadata": {},
   "outputs": [],
   "source": [
    "Vvega = df_first_cut['Vvega'].values\n",
    "Ivega = df_first_cut['Ivega'].values\n",
    "VIvega = df_first_cut['VIvega'].values\n",
    "d = []\n",
    "mag_cut =0.08\n",
    "ff_v = CubicSpline(ip,vp,extrapolate=True)\n",
    "ff_i = CubicSpline(vp,ip,extrapolate=True)\n",
    "Vvega_needed = ff_v(Ivega)\n",
    "Ivega_needed = ff_i(Vvega)\n",
    "mask = (((Vvega_needed + mag_cut) > Vvega) & (Vvega > (Vvega_needed - mag_cut)) & ((Ivega_needed + mag_cut) > Ivega) & (Ivega > (Ivega_needed - mag_cut)))\n",
    "# for i in range(len(Ivega)):\n",
    "#     Vvega_needed = ff_v(Ivega[i]) #new linear interpolation\n",
    "#     Ivega_needed = ff_i(Vvega[i])\n",
    "#     #use slightly bigger cut to avoid deleting too much points. A finer cut will be applied once the fiducial cmd is generated\n",
    "#     if (((Vvega_needed + mag_cut) > Vvega[i]) & (Vvega[i] > (Vvega_needed - mag_cut)) & ((Ivega_needed + mag_cut) > Ivega[i]) & (Ivega[i] > (Ivega_needed - mag_cut))):\n",
    "#         d.append(df_first_cut.iloc[i][['Vvega','err','Ivega','err.2','VIvega','err.1','x','y']].values.tolist())\n",
    "# df_second_cut = pd.DataFrame(d,columns=['v','v_err','i','i_err','vi','vi_err','x','y'])\n",
    "df_second_cut = df_first_cut[mask]\n",
    "d = {'v':df_second_cut['Vvega'].values,'v_err':df_second_cut['err'].values,'i':df_second_cut['Ivega'].values,'i_err':df_second_cut['err.2'].values,'vi':df_second_cut['VIvega'].values,'vi_err':df_second_cut['err.1'].values,'x':df_second_cut['x'].values,'y':df_second_cut['y'].values}\n",
    "df_second_cut = pd.DataFrame(d)"
   ]
  },
  {
   "cell_type": "code",
   "execution_count": null,
   "metadata": {},
   "outputs": [],
   "source": [
    "plt.scatter(df_second_cut['vi'],df_second_cut['v'],s=0.1,alpha=0.8)\n",
    "plt.plot(vp - ip,vp,c='r')\n",
    "plt.xlim(0.4,1)\n",
    "#plt.ylim(16,19)\n",
    "plt.gca().invert_yaxis();"
   ]
  },
  {
   "cell_type": "code",
   "execution_count": null,
   "metadata": {},
   "outputs": [],
   "source": [
    "df_second_cut.to_csv(\"{}/{}_fitstars.dat\".format(path,GC_name),sep=',')"
   ]
  },
  {
   "cell_type": "code",
   "execution_count": null,
   "metadata": {},
   "outputs": [],
   "source": [
    "print(\"V_max is: {}\".format(max(df_second_cut['v'].values) ))\n",
    "print(\"V_min is: {}\".format(min(df_second_cut['v'].values) ))\n",
    "print(\"I_max is: {}\".format(max(df_second_cut['i'].values) ))\n",
    "print(\"I_min is: {}\".format(min(df_second_cut['i'].values) ))\n",
    "print(\"VI_max is: {}\".format(max(df_second_cut['vi'].values)))\n",
    "print(\"VI_min is: {}\".format(min(df_second_cut['vi'].values)))"
   ]
  },
  {
   "cell_type": "code",
   "execution_count": null,
   "metadata": {},
   "outputs": [],
   "source": [
    "#plot the v vs i image within 3.5 mag from sgb\n",
    "V_min = V_sgb - 2\n",
    "V_max = V_sgb + 2\n",
    "df_third_cut = df_second_cut[(df_second_cut['v'] < V_max) & (df_second_cut['v'] > V_min)]"
   ]
  },
  {
   "cell_type": "code",
   "execution_count": null,
   "metadata": {},
   "outputs": [],
   "source": [
    "plt.scatter(df_third_cut['vi'],df_third_cut['v'],s=0.1,alpha=0.8)\n",
    "plt.plot(vp - ip,vp,c='r')\n",
    "plt.xlim(0.4,1)\n",
    "#plt.ylim(16,19)\n",
    "plt.gca().invert_yaxis();"
   ]
  },
  {
   "cell_type": "code",
   "execution_count": null,
   "metadata": {},
   "outputs": [],
   "source": [
    "df_third_cut.to_csv(\"{}/{}_fitstars_2dKS.dat\".format(path,GC_name),sep=',')"
   ]
  },
  {
   "cell_type": "code",
   "execution_count": null,
   "metadata": {},
   "outputs": [],
   "source": []
  }
 ],
 "metadata": {
  "kernelspec": {
   "display_name": "Python 3",
   "language": "python",
   "name": "python3"
  },
  "language_info": {
   "codemirror_mode": {
    "name": "ipython",
    "version": 3
   },
   "file_extension": ".py",
   "mimetype": "text/x-python",
   "name": "python",
   "nbconvert_exporter": "python",
   "pygments_lexer": "ipython3",
   "version": "3.10.11"
  }
 },
 "nbformat": 4,
 "nbformat_minor": 2
}
