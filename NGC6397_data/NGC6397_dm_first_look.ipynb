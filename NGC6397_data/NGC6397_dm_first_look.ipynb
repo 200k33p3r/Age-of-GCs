{
 "cells": [
  {
   "cell_type": "code",
   "execution_count": null,
   "metadata": {},
   "outputs": [],
   "source": [
    "import pandas as pd\n",
    "import numpy as np\n",
    "import matplotlib.pyplot as plt\n",
    "import os\n",
    "import time\n",
    "plt.rc('text', usetex=True)\n",
    "plt.rc('font', family='Serif')\n",
    "\n",
    "import matplotlib as mpl \n",
    "mpl.rcParams['figure.figsize'] = [10, 7]\n",
    "mpl.rcParams['font.size'] = 27\n",
    "\n",
    "mpl.rcParams['savefig.dpi'] = 150 \n",
    "mpl.rcParams['xtick.minor.visible'] = True\n",
    "mpl.rcParams['ytick.minor.visible'] = True\n",
    "mpl.rcParams['xtick.direction'] = 'in'\n",
    "mpl.rcParams['ytick.direction'] = 'in'\n",
    "\n",
    "mpl.rcParams['xtick.top'] = True\n",
    "mpl.rcParams['ytick.right'] = True\n",
    "\n",
    "mpl.rcParams['xtick.major.size'] = 10 \n",
    "mpl.rcParams['xtick.minor.size'] = 5 \n",
    "\n",
    "mpl.rcParams['ytick.major.size'] = 10 \n",
    "mpl.rcParams['ytick.minor.size'] = 5 \n",
    "\n",
    "mpl.rcParams['xtick.labelsize'] = 23\n",
    "mpl.rcParams['ytick.labelsize'] = 23"
   ]
  },
  {
   "cell_type": "code",
   "execution_count": null,
   "metadata": {},
   "outputs": [],
   "source": [
    "GC_name = 'NGC6397'\n",
    "path = os.getcwd()\n",
    "iso_path = '/home/mying/Downloads/HST_WFC3'\n"
   ]
  },
  {
   "cell_type": "code",
   "execution_count": null,
   "metadata": {},
   "outputs": [],
   "source": [
    "#read isochrones\n",
    "iso = open(\"{}/fehm20afep4.HST_WFC3\".format(iso_path), 'r')\n",
    "Line = iso.readlines()\n",
    "iso.close()"
   ]
  },
  {
   "cell_type": "code",
   "execution_count": null,
   "metadata": {},
   "outputs": [],
   "source": [
    "#find isochrone with age = 13.4 Gyr\n",
    "for i in range(len(Line)):\n",
    "    if Line[i][1:4] == 'AGE':\n",
    "        if float(Line[i][5:11]) == 13.5:\n",
    "            print(i, Line[i][17:20])\n",
    "for i in range(len(Line)):\n",
    "    if Line[i][1:4] == 'AGE':\n",
    "        if float(Line[i][5:11]) == 13.0:\n",
    "            print(i, Line[i][17:20])\n",
    "for i in range(len(Line)):\n",
    "    if Line[i][1:4] == 'AGE':\n",
    "        if float(Line[i][5:11]) == 14.0:\n",
    "            print(i, Line[i][17:20])"
   ]
  },
  {
   "cell_type": "code",
   "execution_count": null,
   "metadata": {},
   "outputs": [],
   "source": [
    "#read in pandas\n",
    "df_iso_13_dot_5 = pd.read_csv(\"{}/fehm20afep4.HST_WFC3\".format(iso_path),sep='\\s+', skiprows=9089, nrows=266)\n",
    "df_iso_13 = pd.read_csv(\"{}/fehm20afep4.HST_WFC3\".format(iso_path),sep='\\s+', skiprows=8819, nrows=266)\n",
    "df_iso_14 = pd.read_csv(\"{}/fehm20afep4.HST_WFC3\".format(iso_path),sep='\\s+', skiprows=9359, nrows=266)"
   ]
  },
  {
   "cell_type": "code",
   "execution_count": null,
   "metadata": {},
   "outputs": [],
   "source": [
    "#read in HST data\n",
    "obs_data = pd.read_csv(\"{}_fitstars_cmd.dat\".format(GC_name))\n",
    "obs_data"
   ]
  },
  {
   "cell_type": "code",
   "execution_count": null,
   "metadata": {},
   "outputs": [],
   "source": [
    "B_minus_V = 0.18\n",
    "V_minus_I = B_minus_V*1.35\n",
    "Rv = 3.1\n",
    "Av = Rv*V_minus_I\n",
    "d = 2390\n",
    "m_minus_M = 5*np.log10(d) - 5 + Av\n",
    "m_minus_M"
   ]
  },
  {
   "cell_type": "code",
   "execution_count": null,
   "metadata": {},
   "outputs": [],
   "source": [
    "#plot data with isochrones\n",
    "plt.scatter(obs_data['vi'],obs_data['v'],s=0.1)\n",
    "plt.plot(df_iso_13_dot_5['uvf606w'] - df_iso_13_dot_5['uvf814w'] + V_minus_I, df_iso_13_dot_5['uvf606w'] + m_minus_M,label = '13.5 Gyr')\n",
    "plt.plot(df_iso_13['uvf606w'] - df_iso_13['uvf814w'] + V_minus_I, df_iso_13['uvf606w'] + m_minus_M,label = '13 Gyr')\n",
    "plt.plot(df_iso_14['uvf606w'] - df_iso_14['uvf814w'] + V_minus_I, df_iso_14['uvf606w'] + m_minus_M,label = '14 Gyr')\n",
    "plt.ylim(13,19)\n",
    "plt.xlim(0.4,1)\n",
    "plt.legend()\n",
    "plt.gca().invert_yaxis();"
   ]
  },
  {
   "cell_type": "code",
   "execution_count": null,
   "metadata": {},
   "outputs": [],
   "source": [
    "#plot data with isochrones\n",
    "dm = 12.40\n",
    "red = 0.16\n",
    "print(\"True DM is {}\".format(dm - 3.1*red))\n",
    "plt.scatter(obs_data['vi'],obs_data['v'],s=0.1)\n",
    "plt.plot(df_iso_13_dot_5['uvf606w'] - df_iso_13_dot_5['uvf814w'] + red, df_iso_13_dot_5['uvf606w'] + dm,label = '13.5 Gyr')\n",
    "plt.plot(df_iso_13['uvf606w'] - df_iso_13['uvf814w'] + red, df_iso_13['uvf606w'] + dm,label = '13 Gyr')\n",
    "plt.plot(df_iso_14['uvf606w'] - df_iso_14['uvf814w'] + red, df_iso_14['uvf606w'] + dm,label = '14 Gyr')\n",
    "plt.ylim(13,19)\n",
    "plt.xlim(0.4,1)\n",
    "plt.gca().invert_yaxis();"
   ]
  },
  {
   "cell_type": "code",
   "execution_count": null,
   "metadata": {},
   "outputs": [],
   "source": []
  }
 ],
 "metadata": {
  "kernelspec": {
   "display_name": "Python 3",
   "language": "python",
   "name": "python3"
  },
  "language_info": {
   "codemirror_mode": {
    "name": "ipython",
    "version": 3
   },
   "file_extension": ".py",
   "mimetype": "text/x-python",
   "name": "python",
   "nbconvert_exporter": "python",
   "pygments_lexer": "ipython3",
   "version": "3.10.11"
  },
  "orig_nbformat": 4
 },
 "nbformat": 4,
 "nbformat_minor": 2
}
