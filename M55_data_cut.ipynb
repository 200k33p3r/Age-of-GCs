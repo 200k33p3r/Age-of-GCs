{
 "cells": [
  {
   "cell_type": "code",
   "execution_count": null,
   "metadata": {},
   "outputs": [],
   "source": [
    "import pandas as pd\n",
    "import numpy as np\n",
    "import matplotlib.pyplot as plt\n",
    "import os\n",
    "import time\n",
    "plt.rc('text', usetex=True)\n",
    "plt.rc('font', family='Serif')\n",
    "\n",
    "import matplotlib as mpl \n",
    "mpl.rcParams['figure.figsize'] = [10, 7]\n",
    "mpl.rcParams['font.size'] = 27\n",
    "\n",
    "mpl.rcParams['savefig.dpi'] = 150 \n",
    "mpl.rcParams['xtick.minor.visible'] = True\n",
    "mpl.rcParams['ytick.minor.visible'] = True\n",
    "mpl.rcParams['xtick.direction'] = 'in'\n",
    "mpl.rcParams['ytick.direction'] = 'in'\n",
    "\n",
    "mpl.rcParams['xtick.top'] = True\n",
    "mpl.rcParams['ytick.right'] = True\n",
    "\n",
    "mpl.rcParams['xtick.major.size'] = 10 \n",
    "mpl.rcParams['xtick.minor.size'] = 5 \n",
    "\n",
    "mpl.rcParams['ytick.major.size'] = 10 \n",
    "mpl.rcParams['ytick.minor.size'] = 5 \n",
    "\n",
    "mpl.rcParams['xtick.labelsize'] = 23\n",
    "mpl.rcParams['ytick.labelsize'] = 23"
   ]
  },
  {
   "cell_type": "code",
   "execution_count": null,
   "metadata": {},
   "outputs": [],
   "source": [
    "M55_path = 'C:\\\\Users\\\\marti\\\\Desktop\\\\school work\\\\Dartmouth\\\\GC_ages\\\\M55'\n",
    "M92_path = 'C:\\\\Users\\\\marti\\\\Desktop\\\\school work\\\\Dartmouth\\\\GC_ages\\\\M92'"
   ]
  },
  {
   "cell_type": "code",
   "execution_count": null,
   "metadata": {},
   "outputs": [],
   "source": [
    "df = pd.read_csv(\"{}\\\\M55.dat\".format(M55_path),sep='\\s+')"
   ]
  },
  {
   "cell_type": "code",
   "execution_count": null,
   "metadata": {},
   "outputs": [],
   "source": [
    "plt.scatter(df['x'],df['y'],s=0.1);"
   ]
  },
  {
   "cell_type": "code",
   "execution_count": null,
   "metadata": {},
   "outputs": [],
   "source": [
    "#determin center\n",
    "x_guess,y_guess = 3000,3000\n",
    "radius = 200\n",
    "def centeroidnp(df):\n",
    "    fit_stars = df[((df['x']-x_guess)**2 + (df['y']-y_guess)**2) < radius**2]\n",
    "    length = len(fit_stars)\n",
    "    x = fit_stars['x'].values\n",
    "    y = fit_stars['y'].values\n",
    "    sum_x = np.sum(x)\n",
    "    sum_y = np.sum(y)\n",
    "    return sum_x/length, sum_y/length\n",
    "x_cen, y_cen = centeroidnp(df)\n",
    "print(\"X Center is: {}\".format(x_cen))\n",
    "print(\"Y Center is: {}\".format(y_cen))"
   ]
  },
  {
   "cell_type": "code",
   "execution_count": null,
   "metadata": {},
   "outputs": [],
   "source": [
    "#determine MSTO and SGB\n",
    "plt.scatter(df['VIvega'],df['Vvega'],s=0.1,alpha=0.5,c='grey')\n",
    "plt.xlim(0.3,0.8)\n",
    "plt.ylim(16,19)\n",
    "plt.scatter(0.54,18.0,s=0.7,c='r',label='MSTO')\n",
    "plt.scatter(0.54+0.05,17.28,s=0.7,c='b',label='SGB')\n",
    "plt.legend()\n",
    "plt.gca().invert_yaxis()"
   ]
  },
  {
   "attachments": {},
   "cell_type": "markdown",
   "metadata": {},
   "source": [
    "$$\\textup{V}_{\\textup{MSTO}} = 18.0$$\n",
    "$$\\textup{VI}_{\\textup{MSTO}} = 0.54$$\n",
    "$$\\textup{V}_{\\textup{SGB}} = 17.28$$\n",
    "$$\\textup{VI}_{\\textup{SGB}} = 0.59$$"
   ]
  },
  {
   "cell_type": "code",
   "execution_count": null,
   "metadata": {},
   "outputs": [],
   "source": [
    "#Selected ridgeline points\n",
    "M55_ridgeline = pd.read_csv(\"{}\\\\M55_ridgeline_points.csv\".format(M55_path),names=['Vvega','Ivega'])"
   ]
  },
  {
   "cell_type": "code",
   "execution_count": null,
   "metadata": {},
   "outputs": [],
   "source": [
    "df_first_cut = df[(df['Vvega'] < 19.78) & (df['Vvega'] > 14.78)]\n",
    "xp = M55_ridgeline['Vvega'].values\n",
    "fp = M55_ridgeline['Ivega'].values\n",
    "plt.scatter(df_first_cut['Vvega'],df_first_cut['Ivega'],s=0.1)\n",
    "plt.xlabel('Vvega')\n",
    "plt.ylabel('Ivega')\n",
    "plt.plot(xp,fp,c='r')\n"
   ]
  },
  {
   "cell_type": "code",
   "execution_count": null,
   "metadata": {},
   "outputs": [],
   "source": [
    "Vvega = df_first_cut['Vvega'].values\n",
    "Ivega = df_first_cut['Ivega'].values\n",
    "VIvega = df_first_cut['VIvega'].values\n",
    "d = []\n",
    "for i in range(len(Vvega)):\n",
    "    x = Vvega[i]\n",
    "    ivega_needed = np.interp(x,xp,fp) #new linear interpolation\n",
    "    #use slightly bigger cut to avoid deleting too much points. A finer cut will be applied once the fiducial cmd is generated\n",
    "    if (((ivega_needed + .1) > Ivega[i]) & (Ivega[i] > (ivega_needed - .1))):\n",
    "        d.append(df_first_cut.iloc[i][['Vvega','err','Ivega','err.2','VIvega','err.1','x','y']].values.tolist())\n",
    "M55_second_cut = pd.DataFrame(d,columns=['v','v_err','i','i_err','vi','vi_err','x','y'])"
   ]
  },
  {
   "cell_type": "code",
   "execution_count": null,
   "metadata": {},
   "outputs": [],
   "source": [
    "#check for range of error\n",
    "plt.scatter(M55_second_cut['v'],M55_second_cut['v_err'],s=0.1)\n",
    "plt.ylim(0,0.04);"
   ]
  },
  {
   "cell_type": "code",
   "execution_count": null,
   "metadata": {},
   "outputs": [],
   "source": [
    "plt.scatter(M55_second_cut['i'],M55_second_cut['i_err'],s=0.1)\n",
    "plt.ylim(0,0.04);"
   ]
  },
  {
   "cell_type": "code",
   "execution_count": null,
   "metadata": {},
   "outputs": [],
   "source": [
    "#generate M55 data used to generate fiducial isochrone\n",
    "V_cut = 17.0\n",
    "I_cut = 16.2\n",
    "V_high_err = 0.035\n",
    "V_low_err = 0.10\n",
    "I_high_err = 0.035\n",
    "I_low_err = 0.09\n",
    "Pass_V = M55_second_cut[((M55_second_cut['v'] <= V_cut) & (M55_second_cut['v_err'] < V_low_err)) | ((M55_second_cut['v'] > V_cut) & (M55_second_cut['v_err'] < V_high_err))]\n",
    "M55_fitstars_cmd = Pass_V[((Pass_V['i'] <= I_cut) & (Pass_V['i_err'] < I_low_err)) | ((Pass_V['i'] > I_cut) & (Pass_V['i_err'] < I_high_err))]"
   ]
  },
  {
   "cell_type": "code",
   "execution_count": null,
   "metadata": {},
   "outputs": [],
   "source": [
    "plt.scatter(M55_second_cut['vi'],M55_second_cut['v'],s=0.1,c='r',alpha=0.8)\n",
    "plt.scatter(M55_fitstars_cmd['vi'],M55_fitstars_cmd['v'],s=0.1,c='b')"
   ]
  },
  {
   "cell_type": "code",
   "execution_count": null,
   "metadata": {},
   "outputs": [],
   "source": [
    "M55_fitstars_cmd.to_csv(\"{}\\\\M55_fitstars_cmd.dat\".format(M55_path),sep=',',index=False)"
   ]
  },
  {
   "cell_type": "code",
   "execution_count": null,
   "metadata": {},
   "outputs": [],
   "source": [
    "print(\"V_max for firstars is: {}\".format(max(M55_fitstars['v'].values)))\n",
    "print(\"V_min for firstars is: {}\".format(min(M55_fitstars['v'].values)))\n",
    "print(\"VI_max for firstars is: {}\".format(max(M55_fitstars['vi'].values)))\n",
    "print(\"VI_min for firstars is: {}\".format(min(M55_fitstars['vi'].values)))"
   ]
  },
  {
   "cell_type": "code",
   "execution_count": null,
   "metadata": {},
   "outputs": [],
   "source": []
  }
 ],
 "metadata": {
  "kernelspec": {
   "display_name": "Python 3",
   "language": "python",
   "name": "python3"
  },
  "language_info": {
   "codemirror_mode": {
    "name": "ipython",
    "version": 3
   },
   "file_extension": ".py",
   "mimetype": "text/x-python",
   "name": "python",
   "nbconvert_exporter": "python",
   "pygments_lexer": "ipython3",
   "version": "3.10.11"
  },
  "orig_nbformat": 4
 },
 "nbformat": 4,
 "nbformat_minor": 2
}
