{
 "cells": [
  {
   "cell_type": "code",
   "execution_count": null,
   "metadata": {},
   "outputs": [],
   "source": [
    "import pandas as pd\n",
    "import numpy as np\n",
    "import matplotlib.pyplot as plt\n",
    "import os\n",
    "import time\n",
    "plt.rc('text', usetex=True)\n",
    "plt.rc('font', family='Serif')\n",
    "\n",
    "import matplotlib as mpl \n",
    "mpl.rcParams['figure.figsize'] = [10, 7]\n",
    "mpl.rcParams['font.size'] = 27\n",
    "\n",
    "mpl.rcParams['savefig.dpi'] = 150 \n",
    "mpl.rcParams['xtick.minor.visible'] = True\n",
    "mpl.rcParams['ytick.minor.visible'] = True\n",
    "mpl.rcParams['xtick.direction'] = 'in'\n",
    "mpl.rcParams['ytick.direction'] = 'in'\n",
    "\n",
    "mpl.rcParams['xtick.top'] = True\n",
    "mpl.rcParams['ytick.right'] = True\n",
    "\n",
    "mpl.rcParams['xtick.major.size'] = 10 \n",
    "mpl.rcParams['xtick.minor.size'] = 5 \n",
    "\n",
    "mpl.rcParams['ytick.major.size'] = 10 \n",
    "mpl.rcParams['ytick.minor.size'] = 5 \n",
    "\n",
    "mpl.rcParams['xtick.labelsize'] = 23\n",
    "mpl.rcParams['ytick.labelsize'] = 23"
   ]
  },
  {
   "cell_type": "code",
   "execution_count": null,
   "metadata": {},
   "outputs": [],
   "source": [
    "M55_path = 'C:\\\\Users\\\\marti\\\\Desktop\\\\school work\\\\Dartmouth\\\\GC_ages\\\\M55'\n",
    "M92_path = 'C:\\\\Users\\\\marti\\\\Desktop\\\\school work\\\\Dartmouth\\\\GC_ages\\\\M92'"
   ]
  },
  {
   "cell_type": "code",
   "execution_count": null,
   "metadata": {},
   "outputs": [],
   "source": [
    "df = pd.read_csv(\"{}\\\\M55.dat\".format(M55_path),sep='\\s+')"
   ]
  },
  {
   "cell_type": "code",
   "execution_count": null,
   "metadata": {},
   "outputs": [],
   "source": [
    "plt.scatter(df['x'],df['y'],s=0.1)"
   ]
  },
  {
   "cell_type": "code",
   "execution_count": null,
   "metadata": {},
   "outputs": [],
   "source": [
    "#determin center\n",
    "x_guess,y_guess = 3000,3000\n",
    "radius = 200\n",
    "def centeroidnp(df):\n",
    "    fit_stars = df[((df['x']-x_guess)**2 + (df['y']-y_guess)**2) < radius**2]\n",
    "    length = len(fit_stars)\n",
    "    x = fit_stars['x'].values\n",
    "    y = fit_stars['y'].values\n",
    "    sum_x = np.sum(x)\n",
    "    sum_y = np.sum(y)\n",
    "    return sum_x/length, sum_y/length\n",
    "x_cen, y_cen = centeroidnp(df)\n",
    "print(\"X Center is: {}\".format(x_cen))\n",
    "print(\"Y Center is: {}\".format(y_cen))"
   ]
  },
  {
   "cell_type": "code",
   "execution_count": null,
   "metadata": {},
   "outputs": [],
   "source": [
    "#determine MSTO and SGB\n",
    "plt.scatter(df['VIvega'],df['Vvega'],s=0.1,alpha=0.5,c='grey')\n",
    "plt.xlim(0.3,0.8)\n",
    "plt.ylim(16,19)\n",
    "plt.scatter(0.54,18.0,s=0.7,c='r',label='MSTO')\n",
    "plt.scatter(0.54+0.05,17.28,s=0.7,c='b',label='SGB')\n",
    "plt.legend()\n",
    "plt.gca().invert_yaxis()"
   ]
  },
  {
   "attachments": {},
   "cell_type": "markdown",
   "metadata": {},
   "source": [
    "$$\\textup{V}_{\\textup{MSTO}} = 18.0$$\n",
    "$$\\textup{VI}_{\\textup{MSTO}} = 0.54$$\n",
    "$$\\textup{V}_{\\textup{SGB}} = 17.28$$\n",
    "$$\\textup{VI}_{\\textup{SGB}} = 0.59$$"
   ]
  },
  {
   "cell_type": "code",
   "execution_count": null,
   "metadata": {},
   "outputs": [],
   "source": [
    "plt.scatter(df['Vvega'],df['Ivega'],s=0.1)\n",
    "plt.xlim(19.29,19.31)\n",
    "plt.ylim(18.6,18.7)"
   ]
  },
  {
   "cell_type": "code",
   "execution_count": null,
   "metadata": {},
   "outputs": [],
   "source": [
    "M55_fitstars = pd.DataFrame(columns=['v','v_err','i','i_err','vi','vi_err','x','y'])"
   ]
  },
  {
   "cell_type": "code",
   "execution_count": null,
   "metadata": {},
   "outputs": [],
   "source": [
    "df_first_cut = df[(df['Vvega'] < 19.28) & (df['Vvega'] > 15.28)]"
   ]
  },
  {
   "cell_type": "code",
   "execution_count": null,
   "metadata": {},
   "outputs": [],
   "source": [
    "M55_fitstars = pd.DataFrame(columns=['v','v_err','i','i_err','vi','vi_err','x','y'])\n",
    "df_first_cut = df[(df['Vvega'] < 19.28) & (df['Vvega'] > 15.28)]\n",
    "Vvega = df_first_cut['Vvega'].values\n",
    "Ivega = df_first_cut['Ivega'].values\n",
    "VIvega = df_first_cut['VIvega'].values\n",
    "for i in range(len(Vvega)):\n",
    "    xp = [15.046 , 15.838, 16.39, 17.524,17.519,17.523,18.039,18.003,18.546,18.565,19.041,19.091,19.30]\n",
    "    fp = [14.271, 15.099 , 15.641, 16.972,17.009 ,16.961,17.494 ,17.523,17.973 ,17.993,18.43,18.481,18.68]\n",
    "    x = Vvega[i]\n",
    "    ivega_needed = np.interp(x,xp,fp) #new linear interpolation\n",
    "    if (((ivega_needed + .08) > Ivega[i]) & (Ivega[i] > (ivega_needed - .08))):\n",
    "         if VIvega[i]<1 and VIvega[i]>0.46:\n",
    "            new_row = {'v':df_first_cut['Vvega'].values[i],'v_err':df_first_cut['err'].values[i],'i':df_first_cut['Ivega'].values[i],'i_err':df_first_cut['err.2'].values[i],'vi':df_first_cut['VIvega'].values[i],'vi_err':df_first_cut['err.1'].values[i],'x':df_first_cut['x'].values[i],'y':df_first_cut['y'].values[i]}\n",
    "            M55_fitstars = M55_fitstars.append(new_row, ignore_index=True)"
   ]
  },
  {
   "cell_type": "code",
   "execution_count": null,
   "metadata": {},
   "outputs": [],
   "source": [
    "plt.scatter(M55_fitstars['vi'],M55_fitstars['v'],s=0.1)\n",
    "plt.gca().invert_yaxis()"
   ]
  },
  {
   "cell_type": "code",
   "execution_count": null,
   "metadata": {},
   "outputs": [],
   "source": [
    "M55_fitstars.to_csv(\"{}\\\\M55_fitstars.dat\".format(M55_path),sep=',',index=False)"
   ]
  },
  {
   "cell_type": "code",
   "execution_count": null,
   "metadata": {},
   "outputs": [],
   "source": [
    "print(\"V_max for firstars is: {}\".format(max(M55_fitstars['v'].values)))\n",
    "print(\"V_min for firstars is: {}\".format(min(M55_fitstars['v'].values)))\n",
    "print(\"VI_max for firstars is: {}\".format(max(M55_fitstars['vi'].values)))\n",
    "print(\"VI_min for firstars is: {}\".format(min(M55_fitstars['vi'].values)))"
   ]
  },
  {
   "cell_type": "code",
   "execution_count": null,
   "metadata": {},
   "outputs": [],
   "source": []
  }
 ],
 "metadata": {
  "kernelspec": {
   "display_name": "Python 3",
   "language": "python",
   "name": "python3"
  },
  "language_info": {
   "codemirror_mode": {
    "name": "ipython",
    "version": 3
   },
   "file_extension": ".py",
   "mimetype": "text/x-python",
   "name": "python",
   "nbconvert_exporter": "python",
   "pygments_lexer": "ipython3",
   "version": "3.10.11"
  },
  "orig_nbformat": 4
 },
 "nbformat": 4,
 "nbformat_minor": 2
}
