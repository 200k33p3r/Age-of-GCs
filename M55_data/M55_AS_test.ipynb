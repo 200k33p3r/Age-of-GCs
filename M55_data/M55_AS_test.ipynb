{
 "cells": [
  {
   "cell_type": "code",
   "execution_count": null,
   "metadata": {},
   "outputs": [],
   "source": [
    "import pandas as pd\n",
    "import numpy as np\n",
    "import matplotlib.pyplot as plt\n",
    "import os\n",
    "import time\n",
    "plt.rc('text', usetex=True)\n",
    "plt.rc('font', family='Serif')\n",
    "\n",
    "import matplotlib as mpl \n",
    "mpl.rcParams['figure.figsize'] = [10, 10]\n",
    "mpl.rcParams['font.size'] = 27\n",
    "\n",
    "mpl.rcParams['savefig.dpi'] = 150 \n",
    "mpl.rcParams['xtick.minor.visible'] = True\n",
    "mpl.rcParams['ytick.minor.visible'] = True\n",
    "mpl.rcParams['xtick.direction'] = 'in'\n",
    "mpl.rcParams['ytick.direction'] = 'in'\n",
    "\n",
    "mpl.rcParams['xtick.top'] = True\n",
    "mpl.rcParams['ytick.right'] = True\n",
    "\n",
    "mpl.rcParams['xtick.major.size'] = 10 \n",
    "mpl.rcParams['xtick.minor.size'] = 5 \n",
    "\n",
    "mpl.rcParams['ytick.major.size'] = 10 \n",
    "mpl.rcParams['ytick.minor.size'] = 5 \n",
    "\n",
    "mpl.rcParams['xtick.labelsize'] = 23\n",
    "mpl.rcParams['ytick.labelsize'] = 23"
   ]
  },
  {
   "cell_type": "code",
   "execution_count": null,
   "metadata": {},
   "outputs": [],
   "source": [
    "M55_path = os.getcwd()"
   ]
  },
  {
   "cell_type": "code",
   "execution_count": null,
   "metadata": {},
   "outputs": [],
   "source": [
    "df1 = pd.read_csv(\"{}/M55.dat\".format(M55_path),sep='\\s+')\n",
    "df2 = pd.read_csv(\"{}/M55artstars.dat\".format(M55_path),sep='\\s+')"
   ]
  },
  {
   "cell_type": "code",
   "execution_count": null,
   "metadata": {},
   "outputs": [],
   "source": [
    "epsilon = 1\n",
    "V_diff = []\n",
    "I_diff = []\n",
    "obs_x = df1['x'].values\n",
    "obs_y = df1['y'].values\n",
    "obs_V = df1['Vvega'].values\n",
    "obs_I = df1['Ivega'].values\n",
    "as_x = df2['#InputX'].values\n",
    "as_y = df2['InputY'].values\n",
    "as_V = df2['InputF606W'].values\n",
    "as_I = df2['InputF814W'].values"
   ]
  },
  {
   "cell_type": "code",
   "execution_count": null,
   "metadata": {},
   "outputs": [],
   "source": [
    "as_V_out= df2['OutputF606W'].values\n",
    "as_I_out = df2['OutputF814W'].values\n",
    "plt.scatter(as_V_out - as_I_out+VI_diff,as_V_out+V_diff,s=0.01)\n",
    "plt.scatter(as_V - as_I+VI_diff, as_V+V_diff,s=0.01)\n",
    "plt.ylim(16,20)\n",
    "plt.xlim(0.5,0.75)\n",
    "plt.gca().invert_yaxis()"
   ]
  },
  {
   "cell_type": "code",
   "execution_count": null,
   "metadata": {},
   "outputs": [],
   "source": [
    "plt.scatter(obs_V-obs_I,obs_V,s=0.1,c='b')\n",
    "V_diff=30.98\n",
    "VI_diff=0.737\n",
    "plt.scatter(as_V-as_I+VI_diff,as_V + V_diff,s=0.1,c='orange',alpha=0.5)\n",
    "plt.ylim(15,19)\n",
    "plt.xlim(0.4,1)\n",
    "plt.gca().invert_yaxis()"
   ]
  },
  {
   "cell_type": "code",
   "execution_count": null,
   "metadata": {},
   "outputs": [],
   "source": [
    "plt.scatter(as_V-as_I,as_V,s=0.1,c='orange',alpha=0.5)\n",
    "V_SGB = 17.28\n",
    "VI_SGB = 0.59\n",
    "plt.scatter(VI_SGB - VI_diff, V_SGB - V_diff)\n",
    "plt.gca().invert_yaxis()"
   ]
  },
  {
   "cell_type": "code",
   "execution_count": null,
   "metadata": {},
   "outputs": [],
   "source": [
    "print(\"V for AS test = {}\".format(V_SGB - V_diff))\n",
    "print(\"I for AS test = {}\".format(V_SGB - VI_SGB - (V_diff - VI_diff)))"
   ]
  },
  {
   "cell_type": "code",
   "execution_count": null,
   "metadata": {},
   "outputs": [],
   "source": [
    "plt.scatter(obs_V,obs_I,s=0.1,c='b')\n",
    "V_diff=30.98\n",
    "I_diff = V_diff-0.737\n",
    "#VI_diff=0.737\n",
    "plt.scatter(as_V+V_diff,as_I+I_diff,s=0.1,c='orange',alpha=0.5)\n",
    "plt.xlim(15,19)\n",
    "plt.ylim(14,19)\n",
    "print(\"V_diff = {}\".format(V_diff))\n",
    "print(\"I_diff = {}\".format(I_diff))"
   ]
  },
  {
   "cell_type": "code",
   "execution_count": null,
   "metadata": {},
   "outputs": [],
   "source": [
    "plt.scatter(df1['Vvega'],df1['err'],s=0.01)\n",
    "plt.ylim(0,0.01)\n",
    "plt.xlim(15,20)\n",
    "V_long_short = 16.9\n",
    "plt.axvline(x=V_long_short)"
   ]
  },
  {
   "cell_type": "code",
   "execution_count": null,
   "metadata": {},
   "outputs": [],
   "source": [
    "plt.scatter(df1['Ivega'],df1['err.2'],s=0.01)\n",
    "plt.ylim(0,0.01)\n",
    "plt.xlim(14,20)\n",
    "I_long_short = 16.1\n",
    "plt.axvline(x=I_long_short)"
   ]
  },
  {
   "cell_type": "code",
   "execution_count": null,
   "metadata": {},
   "outputs": [],
   "source": [
    "V_SGB = 17.28\n",
    "mag_cut = 2\n",
    "M55_fitstars = pd.read_csv(\"{}/M55_fitstars.dat\".format(M55_path),sep=',')\n",
    "M55_fitstars_in_range = M55_fitstars[(M55_fitstars['v'] >= V_SGB - mag_cut) & (M55_fitstars['v'] <= V_SGB + mag_cut)]"
   ]
  },
  {
   "cell_type": "code",
   "execution_count": null,
   "metadata": {},
   "outputs": [],
   "source": [
    "print(\"V_max for AS test is: {}\".format(max(M55_fitstars_in_range['v'].values) - V_diff))\n",
    "print(\"V_min for AS test is: {}\".format(min(M55_fitstars_in_range['v'].values) - V_diff))\n",
    "print(\"I_max for AS test is: {}\".format(max(M55_fitstars_in_range['i'].values) - I_diff))\n",
    "print(\"I_min for AS test is: {}\".format(min(M55_fitstars_in_range['i'].values) - I_diff))\n",
    "print(\"VI_max for AS test is: {}\".format(max(M55_fitstars_in_range['vi'].values)- V_diff + I_diff))\n",
    "print(\"VI_min for AS test is: {}\".format(min(M55_fitstars_in_range['vi'].values)- V_diff + I_diff))\n",
    "print(\"V_short_long for AS test is: {}\".format(V_long_short - V_diff))\n",
    "print(\"I_short_long for AS test is: {}\".format(I_long_short - I_diff))"
   ]
  },
  {
   "cell_type": "code",
   "execution_count": null,
   "metadata": {},
   "outputs": [],
   "source": []
  }
 ],
 "metadata": {
  "kernelspec": {
   "display_name": "Python 3",
   "language": "python",
   "name": "python3"
  },
  "language_info": {
   "codemirror_mode": {
    "name": "ipython",
    "version": 3
   },
   "file_extension": ".py",
   "mimetype": "text/x-python",
   "name": "python",
   "nbconvert_exporter": "python",
   "pygments_lexer": "ipython3",
   "version": "3.10.11"
  },
  "orig_nbformat": 4
 },
 "nbformat": 4,
 "nbformat_minor": 2
}
