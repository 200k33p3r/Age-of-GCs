{
 "cells": [
  {
   "cell_type": "code",
   "execution_count": null,
   "metadata": {},
   "outputs": [],
   "source": [
    "import pandas as pd\n",
    "import numpy as np\n",
    "import matplotlib.pyplot as plt\n",
    "import os\n",
    "import time\n",
    "plt.rc('text', usetex=True)\n",
    "plt.rc('font', family='Serif')\n",
    "\n",
    "import matplotlib as mpl \n",
    "mpl.rcParams['figure.figsize'] = [10, 7]\n",
    "mpl.rcParams['font.size'] = 27\n",
    "\n",
    "mpl.rcParams['savefig.dpi'] = 150 \n",
    "mpl.rcParams['xtick.minor.visible'] = True\n",
    "mpl.rcParams['ytick.minor.visible'] = True\n",
    "mpl.rcParams['xtick.direction'] = 'in'\n",
    "mpl.rcParams['ytick.direction'] = 'in'\n",
    "\n",
    "mpl.rcParams['xtick.top'] = True\n",
    "mpl.rcParams['ytick.right'] = True\n",
    "\n",
    "mpl.rcParams['xtick.major.size'] = 10 \n",
    "mpl.rcParams['xtick.minor.size'] = 5 \n",
    "\n",
    "mpl.rcParams['ytick.major.size'] = 10 \n",
    "mpl.rcParams['ytick.minor.size'] = 5 \n",
    "\n",
    "mpl.rcParams['xtick.labelsize'] = 23\n",
    "mpl.rcParams['ytick.labelsize'] = 23"
   ]
  },
  {
   "cell_type": "code",
   "execution_count": null,
   "metadata": {},
   "outputs": [],
   "source": [
    "NGC3201_path = os.getcwd()\n",
    "df = pd.read_csv(\"{}/NGC3201_DRCR.dat\".format(NGC3201_path),sep='\\s+',names=['ID', 'F275W', 'F336W', 'F438W', 'Vvega', 'Ivega'])"
   ]
  },
  {
   "cell_type": "code",
   "execution_count": null,
   "metadata": {},
   "outputs": [],
   "source": [
    "df"
   ]
  },
  {
   "cell_type": "code",
   "execution_count": null,
   "metadata": {},
   "outputs": [],
   "source": [
    "#determine MSTO and SGB\n",
    "plt.scatter(df['Vvega'] - df['Ivega'],df['Vvega'],s=0.5,alpha=1,c='grey')\n",
    "plt.xlim(0.6,1.0)\n",
    "plt.ylim(16.5,20)\n",
    "plt.scatter(0.712,18.1,s=0.7,c='r',label='MSTO')\n",
    "plt.scatter(0.712+0.05,17.45,s=0.7,c='b',label='SGB')\n",
    "plt.legend()\n",
    "plt.gca().invert_yaxis()"
   ]
  },
  {
   "cell_type": "code",
   "execution_count": null,
   "metadata": {},
   "outputs": [],
   "source": [
    "#plot the v vs i image within 2 mag from sgb\n",
    "V_min = 17.45 - 2\n",
    "V_max = 17.45 + 2\n",
    "plt.scatter(df['Vvega'],df['Ivega'],s=0.5)\n",
    "plt.xlim(V_min, V_max)\n",
    "plt.ylim(13.5,19.5)\n",
    "plt.savefig(\"{}/vi.png\".format(NGC3201_path),dpi=500);"
   ]
  },
  {
   "cell_type": "code",
   "execution_count": null,
   "metadata": {},
   "outputs": [],
   "source": [
    "#Selected ridgeline points\n",
    "ridgeline = pd.read_csv(\"{}/NGC3201_ridgeline_points_DRCR.csv\".format(NGC3201_path),names=['Vvega','Ivega'])"
   ]
  },
  {
   "cell_type": "code",
   "execution_count": null,
   "metadata": {},
   "outputs": [],
   "source": [
    "df_first_cut = df[(df['Vvega'] < V_max) & (df['Vvega'] > V_min)]\n",
    "xp = ridgeline['Vvega'].values\n",
    "fp = ridgeline['Ivega'].values\n",
    "plt.scatter(df_first_cut['Vvega'],df_first_cut['Ivega'],s=0.1)\n",
    "plt.xlabel('Vvega')\n",
    "plt.ylabel('Ivega')\n",
    "plt.plot(xp,fp,c='r')\n",
    "plt.ylim(13.5,19.5);"
   ]
  },
  {
   "cell_type": "code",
   "execution_count": null,
   "metadata": {},
   "outputs": [],
   "source": [
    "Vvega = df_first_cut['Vvega'].values\n",
    "Ivega = df_first_cut['Ivega'].values\n",
    "d = []\n",
    "for i in range(len(Vvega)):\n",
    "    x = Vvega[i]\n",
    "    ivega_needed = np.interp(x,xp,fp) #new linear interpolation\n",
    "    #use slightly bigger cut to avoid deleting too much points. A finer cut will be applied once the fiducial cmd is generated\n",
    "    if (((ivega_needed + .08) > Ivega[i]) & (Ivega[i] > (ivega_needed - .08))):\n",
    "        d.append(df_first_cut.iloc[i][['Vvega','Ivega']].values.tolist())\n",
    "df_second_cut = pd.DataFrame(d,columns=['v','i'])"
   ]
  },
  {
   "cell_type": "code",
   "execution_count": null,
   "metadata": {},
   "outputs": [],
   "source": [
    "plt.scatter(df_second_cut['v'] - df_second_cut['i'],df_second_cut['v'],s=0.1)"
   ]
  },
  {
   "cell_type": "code",
   "execution_count": null,
   "metadata": {},
   "outputs": [],
   "source": [
    "df_second_cut.to_csv(\"{}/NGC3201_fitstars_DRCR.dat\".format(NGC3201_path),sep=',',index=False)"
   ]
  },
  {
   "cell_type": "code",
   "execution_count": null,
   "metadata": {},
   "outputs": [],
   "source": []
  }
 ],
 "metadata": {
  "kernelspec": {
   "display_name": "Python 3",
   "language": "python",
   "name": "python3"
  },
  "language_info": {
   "codemirror_mode": {
    "name": "ipython",
    "version": 3
   },
   "file_extension": ".py",
   "mimetype": "text/x-python",
   "name": "python",
   "nbconvert_exporter": "python",
   "pygments_lexer": "ipython3",
   "version": "3.10.11"
  }
 },
 "nbformat": 4,
 "nbformat_minor": 2
}
