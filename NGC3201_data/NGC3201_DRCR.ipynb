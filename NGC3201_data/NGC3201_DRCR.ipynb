{
 "cells": [
  {
   "cell_type": "code",
   "execution_count": null,
   "metadata": {},
   "outputs": [],
   "source": [
    "import pandas as pd\n",
    "import numpy as np\n",
    "import matplotlib.pyplot as plt\n",
    "import os\n",
    "import time\n",
    "plt.rc('text', usetex=True)\n",
    "plt.rc('font', family='Serif')\n",
    "\n",
    "import matplotlib as mpl \n",
    "mpl.rcParams['figure.figsize'] = [9, 9]\n",
    "mpl.rcParams['font.size'] = 27\n",
    "\n",
    "mpl.rcParams['savefig.dpi'] = 150 \n",
    "mpl.rcParams['xtick.minor.visible'] = True\n",
    "mpl.rcParams['ytick.minor.visible'] = True\n",
    "mpl.rcParams['xtick.direction'] = 'in'\n",
    "mpl.rcParams['ytick.direction'] = 'in'\n",
    "\n",
    "mpl.rcParams['xtick.top'] = True\n",
    "mpl.rcParams['ytick.right'] = True\n",
    "\n",
    "mpl.rcParams['xtick.major.size'] = 10 \n",
    "mpl.rcParams['xtick.minor.size'] = 5 \n",
    "\n",
    "mpl.rcParams['ytick.major.size'] = 10 \n",
    "mpl.rcParams['ytick.minor.size'] = 5 \n",
    "\n",
    "mpl.rcParams['xtick.labelsize'] = 23\n",
    "mpl.rcParams['ytick.labelsize'] = 23"
   ]
  },
  {
   "cell_type": "code",
   "execution_count": null,
   "metadata": {},
   "outputs": [],
   "source": [
    "GC_name = 'NGC3201'\n",
    "data_path = os.getcwd()\n",
    "fidanka = pd.read_csv('fiducial_lines.csv')"
   ]
  },
  {
   "cell_type": "code",
   "execution_count": null,
   "metadata": {},
   "outputs": [],
   "source": [
    "df = pd.read_csv(GC_name + '_fitstars.dat')"
   ]
  },
  {
   "cell_type": "code",
   "execution_count": null,
   "metadata": {},
   "outputs": [],
   "source": [
    "Coord = df[['x','y']].values\n",
    "plt.scatter(Coord[:,0],Coord[:,1],s=0.1)\n",
    "plt.xlabel(\"X coordinate\")\n",
    "plt.ylabel('Y coordinate');"
   ]
  },
  {
   "cell_type": "code",
   "execution_count": null,
   "metadata": {},
   "outputs": [],
   "source": [
    "idx = 1500\n",
    "plt.scatter(Coord[:,0],Coord[:,1],s=0.1)\n",
    "plt.scatter(df.iloc[idx]['x'], df.iloc[idx]['y'],label='Target star')\n",
    "plt.xlabel(\"X coordinate\")\n",
    "plt.ylabel('Y coordinate')\n",
    "plt.legend();"
   ]
  },
  {
   "cell_type": "code",
   "execution_count": null,
   "metadata": {},
   "outputs": [],
   "source": [
    "neighbors = df.iloc[np.argpartition(np.sum(np.square(df.iloc[idx][['x','y']].values - Coord),axis=1),50)[:50]]\n",
    "plt.scatter(Coord[:,0],Coord[:,1],s=0.1,alpha=0.5)\n",
    "plt.scatter(df.iloc[idx]['x'], df.iloc[idx]['y'],label='Target star')\n",
    "plt.scatter(neighbors['x'], neighbors['y'],s=0.5,label='100 Neighbor stars')\n",
    "plt.xlabel(\"X coordinate\")\n",
    "plt.ylabel('Y coordinate')\n",
    "plt.legend();"
   ]
  },
  {
   "cell_type": "code",
   "execution_count": null,
   "metadata": {},
   "outputs": [],
   "source": [
    "V_MSTO = 18.3\n",
    "VI_MSTO = 0.70\n",
    "V_SGB = 17.45\n",
    "VI_SGB = 0.75\n",
    "plt.plot(fidanka['vi'],fidanka['v'],c='r',label='fidanka',alpha=0.7)\n",
    "plt.scatter(df['vi'],df['v'],s=0.5,alpha=0.7,c='grey')\n",
    "plt.scatter(VI_MSTO+0.01,V_MSTO,s=20,c='g',label='MSTO')\n",
    "plt.scatter(VI_SGB,V_SGB,s=20,c='b',label='SGB')\n",
    "plt.legend()\n",
    "plt.ylim(V_SGB+2,V_SGB-2)\n",
    "plt.xlim(0.6,1)\n",
    "plt.xlabel('F606W - F814W')\n",
    "plt.ylabel('F606W');"
   ]
  },
  {
   "cell_type": "code",
   "execution_count": null,
   "metadata": {},
   "outputs": [],
   "source": [
    "#determine theta\n",
    "#Table From Bedin, L. R., et al 2005\n",
    "from scipy.interpolate import interp1d\n",
    "E_BV_list = np.array([0,0.05,0.1,0.15,0.2,0.25,0.3,0.35,0.4,0.45,0.5,0.55,0.6,0.65,0.7,0.75,0.8,1.0])\n",
    "A_F606W_list = np.array([0.0,0.14,0.279,0.419,0.558,0.595,0.834,0.972,1.110,1.248,1.385,1.522,1.658,1.794,1.930,2.066,2.202,2.741])\n",
    "A_F814W_list = np.array([0.0,0.092,0.184,0.276,0.367,0.459,0.550,0.641,0.732,0.823,0.913,1.004,1.094,1.184,1.274,1.364,1.454,1.811])\n",
    "ff_606 = interp1d(E_BV_list, A_F606W_list)\n",
    "ff_814 = interp1d(E_BV_list, A_F814W_list)\n",
    "E_BV = 0.24\n",
    "A_F814W = ff_814(E_BV)\n",
    "A_F606W = ff_606(E_BV)\n",
    "theta = np.arctan(A_F814W/(A_F606W - A_F814W))\n",
    "theta"
   ]
  },
  {
   "cell_type": "code",
   "execution_count": null,
   "metadata": {},
   "outputs": [],
   "source": [
    "R_mat = np.array([[np.cos(-theta), -np.sin(-theta)],[np.sin(-theta),np.cos(-theta)]])\n",
    "Obs_Rot = np.matmul(R_mat,(df[['vi','v']].values - np.array([VI_SGB,V_SGB])).T)\n",
    "fidanka_Rot = np.matmul(R_mat,(fidanka[['vi','v']].values - np.array([VI_SGB,V_SGB])).T)\n",
    "df['xprime'] = Obs_Rot[0]\n",
    "df['yprime'] = Obs_Rot[1]\n",
    "neighbors = df.iloc[np.argpartition(np.sum(np.square(df.iloc[idx][['x','y']].values - Coord),axis=1),50)[:50]]"
   ]
  },
  {
   "cell_type": "code",
   "execution_count": null,
   "metadata": {},
   "outputs": [],
   "source": [
    "plt.scatter(df['xprime'],df['yprime'],s=0.5,alpha=1,c='grey')\n",
    "plt.plot(fidanka_Rot[0],fidanka_Rot[1],c='r',label='fidanka')\n",
    "plt.scatter(df.iloc[idx]['xprime'], df.iloc[idx]['yprime'],label='Target star')\n",
    "plt.scatter(neighbors['xprime'], neighbors['yprime'],s=5,label='50 Neighbor stars')\n",
    "plt.xlim(-3.5,4)\n",
    "plt.ylim(1,-1.5)\n",
    "plt.xlabel('x\\'')\n",
    "plt.ylabel('y\\'')\n",
    "plt.legend();"
   ]
  },
  {
   "cell_type": "code",
   "execution_count": null,
   "metadata": {},
   "outputs": [],
   "source": [
    "from scipy.interpolate import CubicSpline\n",
    "ff = CubicSpline(fidanka_Rot[1],fidanka_Rot[0],extrapolate=True)\n",
    "plt.scatter(df['xprime'] - ff(df['yprime']),df['yprime'],s=0.1,alpha=0.5)\n",
    "plt.scatter(neighbors['xprime'] - ff(neighbors['yprime']), neighbors['yprime'],s=5,label='50 Neighbor stars')\n",
    "plt.legend();"
   ]
  },
  {
   "cell_type": "code",
   "execution_count": null,
   "metadata": {},
   "outputs": [],
   "source": [
    "plt.hist(neighbors['xprime'] - ff(neighbors['yprime']),bins=20)\n",
    "plt.vlines(np.median(neighbors['xprime'] - ff(neighbors['yprime'])),0,30,'r')"
   ]
  },
  {
   "cell_type": "code",
   "execution_count": null,
   "metadata": {},
   "outputs": [],
   "source": [
    "idxs = range(len(df))\n",
    "delta_x = np.zeros(len(df))\n",
    "start_time = time.time()\n",
    "for idx in idxs:\n",
    "    neighbors = df.iloc[np.argpartition(np.sum(np.square(df.iloc[idx][['x','y']].values - Coord),axis=1),50)[:50]]\n",
    "    delta_x[idx] = np.median(neighbors['xprime'] - ff(neighbors['yprime']))\n",
    "print(\"--- %s seconds ---\" % (time.time() - start_time))"
   ]
  },
  {
   "cell_type": "code",
   "execution_count": null,
   "metadata": {},
   "outputs": [],
   "source": [
    "plt.scatter(df['xprime'] - delta_x, df['yprime'],s=0.5,alpha=1,c='grey')\n",
    "plt.scatter(df['xprime'], df['yprime'],s=0.5,alpha=1,c='g')\n",
    "plt.plot(fidanka_Rot[0],fidanka_Rot[1],c='r',label='fidanka')\n",
    "plt.xlim(-3.5,3.5)\n",
    "plt.ylim(2,-2)\n",
    "plt.xlabel('x\\'')\n",
    "plt.ylabel('y\\'')"
   ]
  },
  {
   "cell_type": "code",
   "execution_count": null,
   "metadata": {},
   "outputs": [],
   "source": [
    "Obs_Rot_CR = df[['xprime','yprime']].values.T\n",
    "Obs_Rot_CR[0] -= delta_x.T"
   ]
  },
  {
   "cell_type": "code",
   "execution_count": null,
   "metadata": {},
   "outputs": [],
   "source": [
    "obs_CR = np.matmul(np.linalg.inv(R_mat),Obs_Rot_CR) + np.array([[VI_SGB,V_SGB]]).T"
   ]
  },
  {
   "cell_type": "code",
   "execution_count": null,
   "metadata": {},
   "outputs": [],
   "source": [
    "V_MSTO = 18.3\n",
    "VI_MSTO = 0.70\n",
    "V_SGB = 17.45\n",
    "VI_SGB = 0.75\n",
    "plt.plot(fidanka['vi'],fidanka['v'],c='r',label='fidanka')\n",
    "plt.scatter(obs_CR[0] ,obs_CR[1],s=0.5,alpha=0.5,c='g',label='DRCR')\n",
    "plt.scatter(df['vi'],df['v'],s=0.5,alpha=0.5,c='b',label='Uncorrected')\n",
    "plt.legend()\n",
    "plt.ylim(V_SGB+3.5,V_SGB-3.5)\n",
    "plt.xlim(0.6,1.2);"
   ]
  },
  {
   "cell_type": "code",
   "execution_count": null,
   "metadata": {},
   "outputs": [],
   "source": [
    "data = {'v':obs_CR[1], 'vi':obs_CR[0], 'i': obs_CR[1] - obs_CR[0], 'x': df['x'].values, 'y':df['y'].values}\n",
    "fitstars_DRCR = pd.DataFrame(data=data)\n",
    "fitstars_DRCR.to_csv(\"{}_fitstars_DRCR.dat\".format(GC_name),index=False)"
   ]
  },
  {
   "cell_type": "code",
   "execution_count": null,
   "metadata": {},
   "outputs": [],
   "source": [
    "fitstars_DRCR_2dKS = fitstars_DRCR[(fitstars_DRCR['v'] < V_SGB + 2) & (fitstars_DRCR['v'] > V_SGB - 2)]\n",
    "fitstars_DRCR_2dKS.to_csv(\"{}_fitstars_2dKS_DRCR.dat\".format(GC_name),index=False)"
   ]
  },
  {
   "cell_type": "code",
   "execution_count": null,
   "metadata": {},
   "outputs": [],
   "source": [
    "idx = 4000\n",
    "plt.scatter(Coord[:,0],Coord[:,1],s=0.1)\n",
    "plt.scatter(df.iloc[idx]['x'], df.iloc[idx]['y'],label='Target star')\n",
    "plt.xlabel(\"X coordinate\")\n",
    "plt.ylabel('Y coordinate')\n",
    "plt.legend();"
   ]
  },
  {
   "cell_type": "code",
   "execution_count": null,
   "metadata": {},
   "outputs": [],
   "source": [
    "neighbors = df.iloc[np.argpartition(np.sum(np.square(df.iloc[idx][['x','y']].values - Coord),axis=1),50)[:50]]\n",
    "plt.scatter(Coord[:,0],Coord[:,1],s=0.1,alpha=0.5)\n",
    "plt.scatter(df.iloc[idx]['x'], df.iloc[idx]['y'],label='Target star')\n",
    "plt.scatter(neighbors['x'], neighbors['y'],s=0.5,label='100 Neighbor stars')\n",
    "plt.xlabel(\"X coordinate\")\n",
    "plt.ylabel('Y coordinate')\n",
    "plt.legend();"
   ]
  },
  {
   "cell_type": "code",
   "execution_count": null,
   "metadata": {},
   "outputs": [],
   "source": [
    "R_mat = np.array([[np.cos(-theta), -np.sin(-theta)],[np.sin(-theta),np.cos(-theta)]])\n",
    "Obs_Rot = np.matmul(R_mat,(df[['vi','v']].values - np.array([VI_SGB,V_SGB])).T)\n",
    "fidanka_Rot = np.matmul(R_mat,(fidanka[['vi','v']].values - np.array([VI_SGB,V_SGB])).T)\n",
    "df['xprime'] = Obs_Rot[0]\n",
    "df['yprime'] = Obs_Rot[1]\n",
    "neighbors = df.iloc[np.argpartition(np.sum(np.square(df.iloc[idx][['x','y']].values - Coord),axis=1),50)[:50]]\n",
    "plt.scatter(df['xprime'],df['yprime'],s=0.5,alpha=1,c='grey')\n",
    "plt.plot(fidanka_Rot[0],fidanka_Rot[1],c='r',label='fidanka')\n",
    "plt.scatter(df.iloc[idx]['xprime'], df.iloc[idx]['yprime'],label='Target star',c='b')\n",
    "plt.scatter(neighbors['xprime'], neighbors['yprime'],s=5,label='50 Neighbor stars',c='orange')\n",
    "plt.xlim(-3.5,4)\n",
    "plt.ylim(1,-1.5)\n",
    "plt.xlabel('x\\'')\n",
    "plt.ylabel('y\\'')\n",
    "plt.legend();"
   ]
  },
  {
   "cell_type": "code",
   "execution_count": null,
   "metadata": {},
   "outputs": [],
   "source": [
    "from scipy.interpolate import CubicSpline\n",
    "ff = CubicSpline(fidanka_Rot[1],fidanka_Rot[0],extrapolate=True)\n",
    "plt.scatter(df.iloc[idx]['xprime'] - ff(df.iloc[idx]['yprime']), df.iloc[idx]['yprime'],label='Target star',c='b')\n",
    "plt.scatter(df['xprime'] - ff(df['yprime']),df['yprime'],s=0.1,alpha=0.5,c='grey')\n",
    "plt.scatter(neighbors['xprime'] - ff(neighbors['yprime']), neighbors['yprime'],s=5,label='50 Neighbor stars',c='orange')\n",
    "plt.legend();"
   ]
  },
  {
   "cell_type": "code",
   "execution_count": null,
   "metadata": {},
   "outputs": [],
   "source": [
    "plt.hist(neighbors['xprime'] - ff(neighbors['yprime']),bins=20)\n",
    "plt.vlines(np.median(neighbors['xprime'] - ff(neighbors['yprime'])),0,30,'r')"
   ]
  },
  {
   "cell_type": "code",
   "execution_count": null,
   "metadata": {},
   "outputs": [],
   "source": [
    "mpl.rcParams['figure.figsize'] = [18, 11]\n",
    "mpl.rcParams['font.size'] = 20\n",
    "plt.subplots_adjust(hspace=0.2, wspace=1)\n",
    "ax1 = plt.subplot2grid(shape=(2,6), loc=(0,0), colspan=2)\n",
    "ax2 = plt.subplot2grid((2,6), (0,2), colspan=2)\n",
    "ax3 = plt.subplot2grid((2,6), (0,4), colspan=2)\n",
    "ax4 = plt.subplot2grid((2,6), (1,1), colspan=2)\n",
    "ax5 = plt.subplot2grid((2,6), (1,3), colspan=2)\n",
    "ax1.plot(fidanka['vi'],fidanka['v'],c='r',label='fidanka',alpha=0.7)\n",
    "ax1.scatter(df['vi'],df['v'],s=0.5,alpha=0.7,c='grey')\n",
    "ax1.set_ylim(V_SGB+2,V_SGB-2)\n",
    "ax1.set_xlim(0.6,1)\n",
    "ax1.set_xlabel('F606W - F814W')\n",
    "ax1.set_ylabel('F606W');\n",
    "ax2.scatter(Coord[:,0],Coord[:,1],s=0.1,alpha=0.5,c='grey')\n",
    "ax2.scatter(neighbors['x'], neighbors['y'],s=0.5,label='100 Neighbor stars',c='orange',alpha=0.7)\n",
    "ax2.scatter(df.iloc[idx]['x'], df.iloc[idx]['y'],label='Target star',c='b',s=5)\n",
    "ax2.set_xlabel(\"X coordinate\")\n",
    "ax2.set_ylabel('Y coordinate')\n",
    "ax3.scatter(df['xprime'],df['yprime'],s=0.5,alpha=1,c='grey')\n",
    "ax3.plot(fidanka_Rot[0],fidanka_Rot[1],c='r',label='fidanka',alpha=0.7)\n",
    "ax3.scatter(neighbors['xprime'], neighbors['yprime'],s=3,label='50 Neighbor stars',c='orange',alpha=0.7)\n",
    "ax3.scatter(df.iloc[idx]['xprime'], df.iloc[idx]['yprime'],label='Target star',s=10,c='b')\n",
    "ax3.set_xlim(-3.5,4)\n",
    "ax3.set_ylim(1,-1.5)\n",
    "ax3.set_xlabel('x\\'')\n",
    "ax3.set_ylabel('y\\'')\n",
    "ax4.scatter(df['xprime'] - ff(df['yprime']),df['yprime'],s=0.1,alpha=0.5,c='grey')\n",
    "ax4.scatter(neighbors['xprime'] - ff(neighbors['yprime']), neighbors['yprime'],s=5,label='50 Neighbor stars',c='orange',alpha=0.7)\n",
    "ax4.scatter(df.iloc[idx]['xprime'] - ff(df.iloc[idx]['yprime']), df.iloc[idx]['yprime'],label='Target star',c='b')\n",
    "ax4.set_xlabel(r'$\\Delta$ x')\n",
    "ax4.set_ylabel('y\\'')\n",
    "ax4.set_ylim(1,-1.5)\n",
    "ax5.hist(neighbors['xprime'] - ff(neighbors['yprime']),bins=20,density=True)\n",
    "ax5.vlines(np.median(neighbors['xprime'] - ff(neighbors['yprime'])),0,30,'r')\n",
    "ax5.set_xlabel(r'$\\Delta$ x')\n",
    "ax5.set_ylabel('Counts')"
   ]
  },
  {
   "cell_type": "code",
   "execution_count": null,
   "metadata": {},
   "outputs": [],
   "source": [
    "mpl.rcParams['figure.figsize'] = [15, 10]\n",
    "mpl.rcParams['font.size'] = 20\n",
    "fig, axs = plt.subplots(2, 3, layout=\"constrained\")\n",
    "axs[0,0].scatter(Coord[:,0],Coord[:,1],s=0.1,alpha=0.5,c='grey')\n",
    "axs[0,0].scatter(neighbors['x'], neighbors['y'],s=0.5,label='100 Neighbor stars',c='orange',alpha=0.7)\n",
    "axs[0,0].scatter(df.iloc[idx]['x'], df.iloc[idx]['y'],label='Target star',c='b',s=5)\n",
    "axs[0,0].set_xlabel(\"X coordinate\")\n",
    "axs[0,0].set_ylabel('Y coordinate')\n",
    "axs[0,1].scatter(df['xprime'],df['yprime'],s=0.5,alpha=1,c='grey')\n",
    "axs[0,1].plot(fidanka_Rot[0],fidanka_Rot[1],c='r',label='fidanka',alpha=0.7)\n",
    "axs[0,1].scatter(neighbors['xprime'], neighbors['yprime'],s=3,label='50 Neighbor stars',c='orange',alpha=0.7)\n",
    "axs[0,1].scatter(df.iloc[idx]['xprime'], df.iloc[idx]['yprime'],label='Target star',s=10,c='b')\n",
    "axs[0,1].set_xlim(-3.5,4)\n",
    "axs[0,1].set_ylim(1,-1.5)\n",
    "axs[0,1].set_xlabel('x\\'')\n",
    "axs[0,1].set_ylabel('y\\'')\n",
    "axs[1,0].scatter(df['xprime'] - ff(df['yprime']),df['yprime'],s=0.1,alpha=0.5,c='grey')\n",
    "axs[1,0].scatter(neighbors['xprime'] - ff(neighbors['yprime']), neighbors['yprime'],s=5,label='50 Neighbor stars',c='orange',alpha=0.7)\n",
    "axs[1,0].scatter(df.iloc[idx]['xprime'] - ff(df.iloc[idx]['yprime']), df.iloc[idx]['yprime'],label='Target star',c='b')\n",
    "axs[1,0].set_xlabel(r'$\\Delta$ x')\n",
    "axs[1,0].set_ylabel('y\\'')\n",
    "axs[1,0].set_ylim(1,-1.5)\n",
    "axs[1,1].hist(neighbors['xprime'] - ff(neighbors['yprime']),bins=20,density=True)\n",
    "axs[1,1].vlines(np.median(neighbors['xprime'] - ff(neighbors['yprime'])),0,30,'r')\n",
    "axs[1,1].set_xlabel(r'$\\Delta$ x')"
   ]
  },
  {
   "cell_type": "code",
   "execution_count": null,
   "metadata": {},
   "outputs": [],
   "source": [
    "DRCR_df = pd.read_csv(GC_name +'_fitstars_DRCR.dat')\n",
    "DRCR_df"
   ]
  },
  {
   "cell_type": "code",
   "execution_count": null,
   "metadata": {},
   "outputs": [],
   "source": [
    "fig, axs = plt.subplots(1, 2, layout=\"constrained\",sharey=True)\n",
    "axs[0].scatter(DRCR_df['vi'],DRCR_df['v'],s=0.1,label='Corrected')\n",
    "axs[0].text(0.65,15.7,'Corrected',bbox=dict(pad=10, ec=\"k\", fc=\"none\"))\n",
    "axs[1].scatter(df['vi'],df['v'],s=0.1,label='Uncorrected')\n",
    "axs[1].text(0.65,15.7,'Uncorrected',bbox=dict(pad=10, ec=\"k\", fc=\"none\"))\n",
    "fig.supxlabel('F606W - F814W')\n",
    "fig.supylabel('F606W')\n",
    "plt.ylim(17.45+2,17.45-2);"
   ]
  },
  {
   "cell_type": "code",
   "execution_count": null,
   "metadata": {},
   "outputs": [],
   "source": [
    "plt.scatter(DRCR_df['vi'],DRCR_df['v'],s=0.1)"
   ]
  }
 ],
 "metadata": {
  "kernelspec": {
   "display_name": "Python 3",
   "language": "python",
   "name": "python3"
  },
  "language_info": {
   "codemirror_mode": {
    "name": "ipython",
    "version": 3
   },
   "file_extension": ".py",
   "mimetype": "text/x-python",
   "name": "python",
   "nbconvert_exporter": "python",
   "pygments_lexer": "ipython3",
   "version": "3.1.undefined"
  }
 },
 "nbformat": 4,
 "nbformat_minor": 2
}
