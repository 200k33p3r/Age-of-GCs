{
 "cells": [
  {
   "cell_type": "code",
   "execution_count": null,
   "metadata": {},
   "outputs": [],
   "source": [
    "import pandas as pd\n",
    "import numpy as np\n",
    "import matplotlib.pyplot as plt\n",
    "import os\n",
    "import time\n",
    "plt.rc('text', usetex=True)\n",
    "plt.rc('font', family='Serif')\n",
    "\n",
    "import matplotlib as mpl \n",
    "mpl.rcParams['figure.figsize'] = [9, 9]\n",
    "mpl.rcParams['font.size'] = 27\n",
    "\n",
    "mpl.rcParams['savefig.dpi'] = 150 \n",
    "mpl.rcParams['xtick.minor.visible'] = True\n",
    "mpl.rcParams['ytick.minor.visible'] = True\n",
    "mpl.rcParams['xtick.direction'] = 'in'\n",
    "mpl.rcParams['ytick.direction'] = 'in'\n",
    "\n",
    "mpl.rcParams['xtick.top'] = True\n",
    "mpl.rcParams['ytick.right'] = True\n",
    "\n",
    "mpl.rcParams['xtick.major.size'] = 10 \n",
    "mpl.rcParams['xtick.minor.size'] = 5 \n",
    "\n",
    "mpl.rcParams['ytick.major.size'] = 10 \n",
    "mpl.rcParams['ytick.minor.size'] = 5 \n",
    "\n",
    "mpl.rcParams['xtick.labelsize'] = 23\n",
    "mpl.rcParams['ytick.labelsize'] = 23"
   ]
  },
  {
   "cell_type": "code",
   "execution_count": null,
   "metadata": {},
   "outputs": [],
   "source": [
    "GC_name = 'NGC3201'\n",
    "data_path = os.getcwd()\n",
    "fidanka = pd.read_csv('fiducial_lines.csv')"
   ]
  },
  {
   "cell_type": "code",
   "execution_count": null,
   "metadata": {},
   "outputs": [],
   "source": [
    "df = pd.read_csv(GC_name + '_fitstars.dat')"
   ]
  },
  {
   "cell_type": "code",
   "execution_count": null,
   "metadata": {},
   "outputs": [],
   "source": [
    "Coord = df[['x','y']].values\n",
    "plt.scatter(Coord[:,0],Coord[:,1],s=0.1)\n",
    "plt.xlabel(\"X coordinate\")\n",
    "plt.ylabel('Y coordinate');"
   ]
  },
  {
   "cell_type": "code",
   "execution_count": null,
   "metadata": {},
   "outputs": [],
   "source": [
    "idx = 1500\n",
    "plt.scatter(Coord[:,0],Coord[:,1],s=0.1)\n",
    "plt.scatter(df.iloc[idx]['x'], df.iloc[idx]['y'],label='Target star')\n",
    "plt.xlabel(\"X coordinate\")\n",
    "plt.ylabel('Y coordinate')\n",
    "plt.legend();"
   ]
  },
  {
   "cell_type": "code",
   "execution_count": null,
   "metadata": {},
   "outputs": [],
   "source": [
    "neighbors = df.iloc[np.argpartition(np.sum(np.square(df.iloc[idx][['x','y']].values - Coord),axis=1),50)[:50]]\n",
    "plt.scatter(Coord[:,0],Coord[:,1],s=0.1,alpha=0.5)\n",
    "plt.scatter(df.iloc[idx]['x'], df.iloc[idx]['y'],label='Target star')\n",
    "plt.scatter(neighbors['x'], neighbors['y'],s=0.5,label='100 Neighbor stars')\n",
    "plt.xlabel(\"X coordinate\")\n",
    "plt.ylabel('Y coordinate')\n",
    "plt.legend();"
   ]
  },
  {
   "cell_type": "code",
   "execution_count": null,
   "metadata": {},
   "outputs": [],
   "source": [
    "V_MSTO = 18.3\n",
    "VI_MSTO = 0.70\n",
    "V_SGB = 17.45\n",
    "VI_SGB = 0.75\n",
    "plt.plot(fidanka['vi'],fidanka['v'],c='r',label='fidanka')\n",
    "plt.scatter(df['vi'],df['v'],s=0.5,alpha=1,c='grey')\n",
    "plt.scatter(VI_MSTO,V_MSTO,s=0.7,c='r',label='MSTO')\n",
    "plt.scatter(VI_SGB,V_SGB,s=0.7,c='b',label='SGB')\n",
    "plt.legend()\n",
    "plt.ylim(V_SGB+3.5,V_SGB-3.5)\n",
    "plt.xlim(0.6,1.2);"
   ]
  },
  {
   "cell_type": "code",
   "execution_count": null,
   "metadata": {},
   "outputs": [],
   "source": [
    "#determine theta\n",
    "A_F814W = 1.825\n",
    "A_F606W = 2.809\n",
    "theta = np.arctan(A_F814W/(A_F606W - A_F814W))\n",
    "theta"
   ]
  },
  {
   "cell_type": "code",
   "execution_count": null,
   "metadata": {},
   "outputs": [],
   "source": [
    "R_mat = np.array([[np.cos(-theta), -np.sin(-theta)],[np.sin(-theta),np.cos(-theta)]])\n",
    "Obs_Rot = np.matmul(R_mat,(df[['vi','v']].values - np.array([VI_SGB,V_SGB])).T)\n",
    "fidanka_Rot = np.matmul(R_mat,(fidanka[['vi','v']].values - np.array([VI_SGB,V_SGB])).T)\n",
    "df['xprime'] = Obs_Rot[0]\n",
    "df['yprime'] = Obs_Rot[1]\n",
    "neighbors = df.iloc[np.argpartition(np.sum(np.square(df.iloc[idx][['x','y']].values - Coord),axis=1),50)[:50]]"
   ]
  },
  {
   "cell_type": "code",
   "execution_count": null,
   "metadata": {},
   "outputs": [],
   "source": [
    "plt.scatter(df['xprime'],df['yprime'],s=0.5,alpha=1,c='grey')\n",
    "plt.plot(fidanka_Rot[0],fidanka_Rot[1],c='r',label='fidanka')\n",
    "plt.scatter(df.iloc[idx]['xprime'], df.iloc[idx]['yprime'],label='Target star')\n",
    "plt.scatter(neighbors['xprime'], neighbors['yprime'],s=5,label='50 Neighbor stars')\n",
    "plt.xlim(-3.5,3.5)\n",
    "plt.ylim(4,-4)\n",
    "plt.xlabel('x\\'')\n",
    "plt.ylabel('y\\'')\n",
    "plt.legend();"
   ]
  },
  {
   "cell_type": "code",
   "execution_count": null,
   "metadata": {},
   "outputs": [],
   "source": [
    "from scipy.interpolate import CubicSpline\n",
    "ff = CubicSpline(fidanka_Rot[1],fidanka_Rot[0],extrapolate=True)\n",
    "plt.scatter(df['xprime'] - ff(df['yprime']),df['yprime'],s=0.1,alpha=0.5)\n",
    "plt.scatter(neighbors['xprime'] - ff(neighbors['yprime']), neighbors['yprime'],s=5,label='50 Neighbor stars')\n",
    "plt.legend();"
   ]
  },
  {
   "cell_type": "code",
   "execution_count": null,
   "metadata": {},
   "outputs": [],
   "source": [
    "plt.hist(neighbors['xprime'] - ff(neighbors['yprime']),bins=20)\n",
    "plt.vlines(np.median(neighbors['xprime'] - ff(neighbors['yprime'])),0,30,'r')"
   ]
  },
  {
   "cell_type": "code",
   "execution_count": null,
   "metadata": {},
   "outputs": [],
   "source": [
    "idxs = range(len(df))\n",
    "delta_x = np.zeros(len(df))\n",
    "start_time = time.time()\n",
    "for idx in idxs:\n",
    "    neighbors = df.iloc[np.argpartition(np.sum(np.square(df.iloc[idx][['x','y']].values - Coord),axis=1),50)[:50]]\n",
    "    delta_x[idx] = np.median(neighbors['xprime'] - ff(neighbors['yprime']))\n",
    "print(\"--- %s seconds ---\" % (time.time() - start_time))"
   ]
  },
  {
   "cell_type": "code",
   "execution_count": null,
   "metadata": {},
   "outputs": [],
   "source": [
    "plt.scatter(df['xprime'] - delta_x, df['yprime'],s=0.5,alpha=1,c='grey')\n",
    "plt.scatter(df['xprime'], df['yprime'],s=0.5,alpha=1,c='g')\n",
    "plt.plot(fidanka_Rot[0],fidanka_Rot[1],c='r',label='fidanka')\n",
    "plt.xlim(-3.5,3.5)\n",
    "plt.ylim(2,-2)\n",
    "plt.xlabel('x\\'')\n",
    "plt.ylabel('y\\'')"
   ]
  },
  {
   "cell_type": "code",
   "execution_count": null,
   "metadata": {},
   "outputs": [],
   "source": [
    "Obs_Rot_CR = df[['xprime','yprime']].values.T\n",
    "Obs_Rot_CR[0] -= delta_x.T"
   ]
  },
  {
   "cell_type": "code",
   "execution_count": null,
   "metadata": {},
   "outputs": [],
   "source": [
    "obs_CR = np.matmul(np.linalg.inv(R_mat),Obs_Rot_CR) + np.array([[VI_SGB,V_SGB]]).T"
   ]
  },
  {
   "cell_type": "code",
   "execution_count": null,
   "metadata": {},
   "outputs": [],
   "source": [
    "V_MSTO = 18.3\n",
    "VI_MSTO = 0.70\n",
    "V_SGB = 17.45\n",
    "VI_SGB = 0.75\n",
    "plt.plot(fidanka['vi'],fidanka['v'],c='r',label='fidanka')\n",
    "plt.scatter(obs_CR[0] ,obs_CR[1],s=0.5,alpha=0.5,c='g',label='DRCR')\n",
    "plt.scatter(df['vi'],df['v'],s=0.5,alpha=0.5,c='b',label='Uncorrected')\n",
    "plt.legend()\n",
    "plt.ylim(V_SGB+3.5,V_SGB-3.5)\n",
    "plt.xlim(0.6,1.2);"
   ]
  },
  {
   "cell_type": "code",
   "execution_count": null,
   "metadata": {},
   "outputs": [],
   "source": [
    "data = {'v':obs_CR[1], 'vi':obs_CR[0]}\n",
    "fitstars_DRCR = pd.DataFrame(data=data)\n",
    "fitstars_DRCR.to_csv(\"{}_fitstars_DRCR.dat\".format(GC_name),index=False)"
   ]
  },
  {
   "cell_type": "code",
   "execution_count": null,
   "metadata": {},
   "outputs": [],
   "source": [
    "fitstars_DRCR_2dKS = fitstars_DRCR[(fitstars_DRCR['v'] < V_SGB + 2) & (fitstars_DRCR['v'] > V_SGB - 2)]\n",
    "fitstars_DRCR_2dKS.to_csv(\"{}_fitstars_2dKS_DRCR.dat\".format(GC_name),index=False)"
   ]
  },
  {
   "cell_type": "code",
   "execution_count": null,
   "metadata": {},
   "outputs": [],
   "source": []
  }
 ],
 "metadata": {
  "kernelspec": {
   "display_name": "Python 3",
   "language": "python",
   "name": "python3"
  },
  "language_info": {
   "codemirror_mode": {
    "name": "ipython",
    "version": 3
   },
   "file_extension": ".py",
   "mimetype": "text/x-python",
   "name": "python",
   "nbconvert_exporter": "python",
   "pygments_lexer": "ipython3",
   "version": "3.10.11"
  }
 },
 "nbformat": 4,
 "nbformat_minor": 2
}
