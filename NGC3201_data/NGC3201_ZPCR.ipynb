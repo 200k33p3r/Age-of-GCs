{
 "cells": [
  {
   "cell_type": "code",
   "execution_count": null,
   "metadata": {},
   "outputs": [],
   "source": [
    "import pandas as pd\n",
    "import numpy as np\n",
    "import matplotlib.pyplot as plt\n",
    "import os\n",
    "import time\n",
    "plt.rc('text', usetex=True)\n",
    "plt.rc('font', family='Serif')\n",
    "\n",
    "import matplotlib as mpl \n",
    "mpl.rcParams['figure.figsize'] = [9, 9]\n",
    "mpl.rcParams['font.size'] = 27\n",
    "\n",
    "mpl.rcParams['savefig.dpi'] = 150 \n",
    "mpl.rcParams['xtick.minor.visible'] = True\n",
    "mpl.rcParams['ytick.minor.visible'] = True\n",
    "mpl.rcParams['xtick.direction'] = 'in'\n",
    "mpl.rcParams['ytick.direction'] = 'in'\n",
    "\n",
    "mpl.rcParams['xtick.top'] = True\n",
    "mpl.rcParams['ytick.right'] = True\n",
    "\n",
    "mpl.rcParams['xtick.major.size'] = 10 \n",
    "mpl.rcParams['xtick.minor.size'] = 5 \n",
    "\n",
    "mpl.rcParams['ytick.major.size'] = 10 \n",
    "mpl.rcParams['ytick.minor.size'] = 5 \n",
    "\n",
    "mpl.rcParams['xtick.labelsize'] = 23\n",
    "mpl.rcParams['ytick.labelsize'] = 23"
   ]
  },
  {
   "cell_type": "code",
   "execution_count": null,
   "metadata": {},
   "outputs": [],
   "source": [
    "GC_name = 'NGC3201'\n",
    "data_path = os.getcwd()\n",
    "fidanka = pd.read_csv('fiducial_lines.csv')"
   ]
  },
  {
   "cell_type": "code",
   "execution_count": null,
   "metadata": {},
   "outputs": [],
   "source": [
    "df = pd.read_csv(GC_name + '_fitstars_DRCR.dat')"
   ]
  },
  {
   "cell_type": "code",
   "execution_count": null,
   "metadata": {},
   "outputs": [],
   "source": [
    "from scipy.interpolate import CubicSpline\n",
    "ff = CubicSpline(fidanka['v'],fidanka['vi'])"
   ]
  },
  {
   "cell_type": "code",
   "execution_count": null,
   "metadata": {},
   "outputs": [],
   "source": [
    "AS_df = pd.read_csv(\"{}artstars.dat\".format(GC_name),sep='\\s+')\n",
    "AS_df = AS_df[((AS_df['#InputX'] - AS_df['OutputX'])**2 + (AS_df['InputY'] - AS_df['OutputY'])**2 <= 0.25) & (np.abs(AS_df['InputF606W'] - AS_df['OutputF606W']) <= 0.75) & (np.abs(AS_df['InputF814W'] - AS_df['OutputF814W']) <= 0.75)]\n",
    "V_diff=31.4\n",
    "VI_diff=0.897\n",
    "I_diff = V_diff - VI_diff\n",
    "AS_df_CR = AS_df.copy()\n",
    "AS_df_CR['InputF606W'] += V_diff\n",
    "AS_df_CR['OutputF606W'] += V_diff\n",
    "AS_df_CR['InputF814W'] += I_diff\n",
    "AS_df_CR['OutputF814W'] += I_diff\n",
    "AS_df_CR['AR_cdiff'] = (AS_df_CR['OutputF606W'] - AS_df_CR['OutputF814W']) - (AS_df_CR['InputF606W'] - AS_df_CR['InputF814W'])\n",
    "df['Obs_cdiff'] = df['vi'] - ff(df['v'])"
   ]
  },
  {
   "cell_type": "code",
   "execution_count": null,
   "metadata": {},
   "outputs": [],
   "source": [
    "plt.scatter(df['Obs_cdiff'],df['v'],s=0.1,alpha=0.5,c='r',label=r'Obs $\\Delta_{V-I}$')\n",
    "plt.scatter(AS_df_CR['AR_cdiff'], AS_df_CR['InputF606W'],s=0.1,alpha=0.5,c='y',label=r'AS $\\Delta_{V-I}$')\n",
    "plt.ylim(np.max(df['v']),np.min(df['v']))\n",
    "plt.xlim(-0.1,0.1)\n",
    "plt.legend(markerscale=10);"
   ]
  },
  {
   "cell_type": "code",
   "execution_count": null,
   "metadata": {},
   "outputs": [],
   "source": [
    "AS_df_CR = AS_df_CR[np.abs(AS_df_CR['AR_cdiff']) < 0.08]"
   ]
  },
  {
   "cell_type": "code",
   "execution_count": null,
   "metadata": {},
   "outputs": [],
   "source": [
    "from scipy.stats import median_abs_deviation\n",
    "df['MAD'] = np.concatenate((np.zeros(50),np.array([median_abs_deviation(df['Obs_cdiff'].values[i:i+100]) for i in range(50)]),np.array([median_abs_deviation(df['Obs_cdiff'].values[i:i+200]) for i in range(len(df) - 200)]),np.zeros(100)))\n",
    "AS_df_CR['MAD'] = np.concatenate((np.zeros(500),np.array([median_abs_deviation(AS_df_CR['AR_cdiff'].values[i:i+1000]) for i in range(len(AS_df_CR) - 1000)]),np.zeros(500)))"
   ]
  },
  {
   "cell_type": "code",
   "execution_count": null,
   "metadata": {},
   "outputs": [],
   "source": [
    "for max_v in np.linspace(15.5,21,50):\n",
    "    min_v = max_v - 1\n",
    "    art_in_range = AS_df_CR[(AS_df_CR['InputF606W'] < max_v) & (AS_df_CR['InputF606W'] > min_v) & (AS_df_CR['AR_cdiff'] > -0.05) & (AS_df_CR['AR_cdiff'] < 0.05)]['AR_cdiff'].values\n",
    "    obs_in_range = df[(df['v'] < max_v) & (df['v'] > min_v)]['Obs_cdiff'].values\n",
    "    plt.scatter(max_v-0.5, median_abs_deviation(art_in_range),c='b')\n",
    "    plt.scatter(max_v-0.5, median_abs_deviation(obs_in_range),c='r')"
   ]
  },
  {
   "cell_type": "code",
   "execution_count": null,
   "metadata": {},
   "outputs": [],
   "source": [
    "mag_bin = []\n",
    "ratio = []\n",
    "for max_v in np.linspace(15.5,21,50):\n",
    "    min_v = max_v - 1\n",
    "    art_in_range = AS_df_CR[(AS_df_CR['InputF606W'] < max_v) & (AS_df_CR['InputF606W'] > min_v) & (AS_df_CR['AR_cdiff'] > -0.05) & (AS_df_CR['AR_cdiff'] < 0.05)]['AR_cdiff'].values\n",
    "    obs_in_range = df[(df['v'] < max_v) & (df['v'] > min_v)]['Obs_cdiff'].values\n",
    "    mag_bin.append(max_v-0.5)\n",
    "    ratio.append(median_abs_deviation(art_in_range)/median_abs_deviation(obs_in_range))\n",
    "    plt.scatter(max_v-0.5, median_abs_deviation(art_in_range)/median_abs_deviation(obs_in_range),c='b')"
   ]
  },
  {
   "cell_type": "code",
   "execution_count": null,
   "metadata": {},
   "outputs": [],
   "source": [
    "mag_bin = []\n",
    "diff = []\n",
    "for max_v in np.linspace(15.5,21,50):\n",
    "    min_v = max_v - 1\n",
    "    art_in_range = AS_df_CR[(AS_df_CR['InputF606W'] < max_v) & (AS_df_CR['InputF606W'] > min_v) & (AS_df_CR['AR_cdiff'] > -0.05) & (AS_df_CR['AR_cdiff'] < 0.05)]['AR_cdiff'].values\n",
    "    obs_in_range = df[(df['v'] < max_v) & (df['v'] > min_v)]['Obs_cdiff'].values\n",
    "    mag_bin.append(max_v-0.5)\n",
    "    diff.append(np.sqrt(np.abs(median_abs_deviation(art_in_range)**2 - median_abs_deviation(obs_in_range)**2)))\n",
    "plt.scatter(mag_bin, diff,c='b')"
   ]
  },
  {
   "cell_type": "code",
   "execution_count": null,
   "metadata": {},
   "outputs": [],
   "source": [
    "import piecewise_regression\n",
    "pw_fit = piecewise_regression.Fit(mag_bin, diff, n_breakpoints=2)\n",
    "pw_fit.plot_fit(color=\"red\", linewidth=4)\n",
    "plt.scatter(mag_bin,diff)"
   ]
  },
  {
   "cell_type": "code",
   "execution_count": null,
   "metadata": {},
   "outputs": [],
   "source": [
    "pw_fit.summary()"
   ]
  },
  {
   "cell_type": "code",
   "execution_count": null,
   "metadata": {},
   "outputs": [],
   "source": [
    "from scipy.interpolate import splrep, BSpline\n",
    "spl = splrep(mag_bin,diff)\n",
    "plt.scatter(np.linspace(15,20,100),BSpline(*spl)(np.linspace(15,20,100)))"
   ]
  }
 ],
 "metadata": {
  "kernelspec": {
   "display_name": "Python 3",
   "language": "python",
   "name": "python3"
  },
  "language_info": {
   "codemirror_mode": {
    "name": "ipython",
    "version": 3
   },
   "file_extension": ".py",
   "mimetype": "text/x-python",
   "name": "python",
   "nbconvert_exporter": "python",
   "pygments_lexer": "ipython3",
   "version": "3.10.11"
  }
 },
 "nbformat": 4,
 "nbformat_minor": 2
}
