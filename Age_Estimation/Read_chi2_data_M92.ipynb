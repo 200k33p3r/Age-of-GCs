{
 "cells": [
  {
   "cell_type": "code",
   "execution_count": null,
   "id": "8d69d96f",
   "metadata": {},
   "outputs": [],
   "source": [
    "import os\n",
    "import numpy as np\n",
    "import matplotlib.pyplot as plt\n",
    "import pandas as pd\n",
    "from scipy.spatial import Voronoi, voronoi_plot_2d\n",
    "import time"
   ]
  },
  {
   "cell_type": "code",
   "execution_count": null,
   "id": "6c8cbd35",
   "metadata": {},
   "outputs": [],
   "source": [
    "#set overall plot params\n",
    "import matplotlib.pyplot as plt \n",
    "plt.rc('text', usetex=True)\n",
    "plt.rc('font', family='Serif')\n",
    "\n",
    "import matplotlib as mpl \n",
    "mpl.rcParams['figure.figsize'] = [10, 7]\n",
    "mpl.rcParams['font.size'] = 27\n",
    "\n",
    "mpl.rcParams['savefig.dpi'] = 150 \n",
    "mpl.rcParams['xtick.minor.visible'] = True\n",
    "mpl.rcParams['ytick.minor.visible'] = True\n",
    "mpl.rcParams['xtick.direction'] = 'in'\n",
    "mpl.rcParams['ytick.direction'] = 'in'\n",
    "\n",
    "mpl.rcParams['xtick.top'] = True\n",
    "mpl.rcParams['ytick.right'] = True\n",
    "\n",
    "mpl.rcParams['xtick.major.size'] = 10 \n",
    "mpl.rcParams['xtick.minor.size'] = 5 \n",
    "\n",
    "mpl.rcParams['ytick.major.size'] = 10 \n",
    "mpl.rcParams['ytick.minor.size'] = 5 \n",
    "\n",
    "mpl.rcParams['xtick.labelsize'] = 23\n",
    "mpl.rcParams['ytick.labelsize'] = 23"
   ]
  },
  {
   "cell_type": "code",
   "execution_count": null,
   "id": "2acc10a7",
   "metadata": {},
   "outputs": [],
   "source": [
    "#share_path = 'C:\\\\Users\\\\irisd\\\\Desktop\\\\share\\\\'\n",
    "#M92_path = 'C:\\\\Users\\\\irisd\\\\Desktop\\\\M92 project\\\\'\n",
    "share_path = 'C:\\\\Users\\\\marti\\\\Desktop\\\\share\\\\'\n",
    "M92_path = 'C:\\\\Users\\\\marti\\\\Desktop\\\\school work\\\\Dartmouth\\\\M92 project\\\\'"
   ]
  },
  {
   "cell_type": "code",
   "execution_count": null,
   "id": "616cea70",
   "metadata": {},
   "outputs": [],
   "source": [
    "#read empirical chi2\n",
    "os.chdir(M92_path + 'resample_with_bin\\\\result')\n",
    "result = []\n",
    "for file in os.listdir():\n",
    "    dp = pd.read_csv(file)\n",
    "    result.append(dp['chi2'].values)\n",
    "combined = np.concatenate([i for i in result])\n",
    "combined_std = np.std(combined)\n",
    "combined_mean = np.mean(combined)"
   ]
  },
  {
   "cell_type": "code",
   "execution_count": null,
   "id": "279c7e87",
   "metadata": {},
   "outputs": [],
   "source": [
    "#read chi2 results\n",
    "os.chdir(share_path + 'outchi2_final')\n",
    "retval = 8234\n",
    "test_chi2_less_4000 = np.array([])\n",
    "for file in os.listdir()[:retval]:\n",
    "    dp = pd.read_csv(file)\n",
    "    for i in range(41):\n",
    "        idx = dp.index[dp['chi2']==dp.loc[126*i:126*(i+1)].min(axis=0)[-1]]\n",
    "        chi2 = dp['chi2'].values[idx]\n",
    "        if chi2 < 4000:\n",
    "            if len(test_chi2_less_4000) == 0:\n",
    "                test_chi2_less_4000 = np.concatenate((dp.iloc[idx].values[0],np.array([int(file[-5:])])))\n",
    "            else:\n",
    "                test_chi2_less_4000 = np.concatenate((test_chi2_less_4000, np.concatenate((dp.iloc[idx].values[0],np.array([int(file[-5:])])))))"
   ]
  },
  {
   "cell_type": "code",
   "execution_count": null,
   "id": "9be57d71",
   "metadata": {},
   "outputs": [],
   "source": [
    "#find chi2 in range\n",
    "result = []\n",
    "for i in range(len(test_chi2_less_4000)):\n",
    "    if i % 5 == 0:\n",
    "        result.append(test_chi2_less_4000[i:i+5])\n",
    "chi2_less_4000 = np.array(result)\n",
    "test_chi2_in_range = chi2_less_4000[chi2_less_4000[:,3]<(combined_mean + combined_std * 5)]"
   ]
  },
  {
   "cell_type": "code",
   "execution_count": null,
   "id": "ca55990f",
   "metadata": {},
   "outputs": [],
   "source": [
    "print(combined_mean)\n",
    "print(combined_std)"
   ]
  },
  {
   "cell_type": "code",
   "execution_count": null,
   "id": "72766067",
   "metadata": {},
   "outputs": [],
   "source": [
    "#plot good bins with empirical chi2 distribution\n",
    "mpl.rcParams['figure.figsize'] = [14, 14]\n",
    "mpl.rcParams['font.size'] = 37\n",
    "mpl.rcParams['xtick.labelsize'] = 33\n",
    "mpl.rcParams['ytick.labelsize'] = 33\n",
    "fig, ax1 = plt.subplots()\n",
    "\n",
    "color = 'tab:red'\n",
    "ax1.set_xlabel(\"$\\chi^2$\")\n",
    "ax1.set_ylabel('Density', color=color)\n",
    "ax1.hist(combined,bins=20,alpha=0.6,density=True, color=color)\n",
    "ax1.tick_params(axis='y',direction=\"in\", labelcolor=color)\n",
    "ax1.tick_params(axis='x',direction=\"in\")\n",
    "                \n",
    "ax2 = ax1.twinx()  # instantiate a second axes that shares the same x-axis\n",
    "\n",
    "color = 'tab:blue'\n",
    "ax2.set_ylabel('Age (Gyr)', color=color)  # we already handled the x-label with ax1\n",
    "ax2.scatter(np.array(chi2_less_4000)[:,3], np.array(chi2_less_4000)[:,0]/1000, color=color, s=10)\n",
    "ax2.tick_params(axis='y',direction=\"in\", labelcolor=color)\n",
    "\n",
    "fig.tight_layout()  # otherwise the right y-label is slightly clipped\n",
    "plt.show()"
   ]
  },
  {
   "cell_type": "code",
   "execution_count": null,
   "id": "b44399a3",
   "metadata": {},
   "outputs": [],
   "source": [
    "all_chi2 = []\n",
    "for file in os.listdir()[:retval]:\n",
    "    one_iso = []\n",
    "    dp = pd.read_csv(file)\n",
    "    for i in range(41):\n",
    "        idx = dp.index[dp['chi2']==dp.loc[126*i:126*(i+1)].min(axis=0)[-1]]\n",
    "        chi2 = dp['chi2'].values[idx]\n",
    "        age = dp['age'].values[idx]\n",
    "        one_iso.append([chi2[0],age[0]])\n",
    "    one_iso.sort()\n",
    "    all_chi2.append(one_iso[0])"
   ]
  },
  {
   "cell_type": "code",
   "execution_count": null,
   "id": "d466d12e",
   "metadata": {},
   "outputs": [],
   "source": [
    "#plot good bins with empirical chi2 distribution\n",
    "mpl.rcParams['figure.figsize'] = [14, 14]\n",
    "mpl.rcParams['font.size'] = 37\n",
    "mpl.rcParams['xtick.labelsize'] = 33\n",
    "mpl.rcParams['ytick.labelsize'] = 33\n",
    "fig, ax1 = plt.subplots()\n",
    "\n",
    "color = 'tab:red'\n",
    "ax1.set_xlabel(\"$\\chi^2$\")\n",
    "ax1.set_ylabel('Density', color=color)\n",
    "ax1.hist(combined,bins=20,alpha=0.6,density=True, color=color)\n",
    "ax1.tick_params(axis='y',direction=\"in\", labelcolor=color)\n",
    "ax1.tick_params(axis='x',direction=\"in\")\n",
    "ax1.set_xscale('log')\n",
    "                \n",
    "ax2 = ax1.twinx()  # instantiate a second axes that shares the same x-axis\n",
    "\n",
    "color = 'tab:grey'\n",
    "ax2.scatter(np.array(all_chi2)[:,0],np.array(all_chi2)[:,1]/1000, color=color, s=10)\n",
    "color = 'tab:blue'\n",
    "ax2.set_ylabel('Age (Gyr)', color=color)  # we already handled the x-label with ax1\n",
    "ax2.scatter(np.array(chi2_less_4000)[:,3], np.array(chi2_less_4000)[:,0]/1000, color=color, s=10)\n",
    "ax2.tick_params(axis='y',direction=\"in\", labelcolor=color)\n",
    "ax2.set_xscale('log')\n",
    "\n",
    "fig.tight_layout()  # otherwise the right y-label is slightly clipped\n",
    "plt.show()"
   ]
  },
  {
   "cell_type": "code",
   "execution_count": null,
   "id": "655c5551",
   "metadata": {},
   "outputs": [],
   "source": [
    "fig.savefig(M92_path + 'plots\\\\ages.pdf', dpi=150)"
   ]
  },
  {
   "cell_type": "code",
   "execution_count": null,
   "id": "408b45ae",
   "metadata": {},
   "outputs": [],
   "source": [
    "#read calibration star test results\n",
    "dp = pd.read_csv(M92_path + 'jupyter_modified\\\\mccdf.csv')\n",
    "cdf = []\n",
    "for i in range(len(test_chi2_in_range)):\n",
    "#    if test_chi2_in_range[i][3] < combined_mean:\n",
    "#        cdf.append(1)\n",
    "#    else:\n",
    "    for j in range(len(dp)):\n",
    "        if str(dp['MCnumber'].values[j]) == str(int(test_chi2_in_range[i][4])):\n",
    "            cdf.append(1 - dp['cdf'].values[j])\n",
    "total_pt = 0\n",
    "for file in test_chi2_in_range:\n",
    "    if file[3] >= np.mean(combined_mean):\n",
    "        total_pt += 1\n",
    "density = np.linspace(1,total_pt,total_pt)/total_pt"
   ]
  },
  {
   "cell_type": "code",
   "execution_count": null,
   "id": "62266383",
   "metadata": {},
   "outputs": [],
   "source": [
    "#plot chi2 distribition\n",
    "chi2 = np.array(test_chi2_in_range)[:,3]\n",
    "chi2 = np.sort(chi2.astype(float))\n",
    "chi2 = chi2[chi2 >= np.mean(combined_mean)]\n",
    "plt.plot(chi2 - np.mean(combined_mean),density)\n",
    "plt.xlabel(\"$\\Delta \\chi^2$\")\n",
    "plt.ylabel('cdf')\n",
    "plt.tick_params(axis='x',direction=\"in\")\n",
    "plt.tick_params(axis='y',direction=\"in\")\n",
    "#plt.savefig(M92_path + 'plots\\\\delta_chi2.pdf', dpi=150);"
   ]
  },
  {
   "cell_type": "code",
   "execution_count": null,
   "id": "17c1f249",
   "metadata": {},
   "outputs": [],
   "source": [
    "#calculate weight for each iso\n",
    "weight = []\n",
    "for i in range(len(test_chi2_in_range)):\n",
    "    if test_chi2_in_range[i][3] <= combined_mean:\n",
    "        weight.append(cdf[i])\n",
    "    else:\n",
    "        for j in range(len(chi2)):\n",
    "            if chi2[j] == test_chi2_in_range[i][3]:\n",
    "                weight.append(cdf[i]*(1 - density[j]))"
   ]
  },
  {
   "cell_type": "code",
   "execution_count": null,
   "id": "4dc70695",
   "metadata": {},
   "outputs": [],
   "source": [
    "len(weight)"
   ]
  },
  {
   "cell_type": "code",
   "execution_count": null,
   "id": "4e79b6fd",
   "metadata": {},
   "outputs": [],
   "source": [
    "#find age and std\n",
    "import math\n",
    "def weighted_avg_and_std(values, weights):\n",
    "    \"\"\"\n",
    "    Return the weighted average and standard deviation.\n",
    "\n",
    "    values, weights -- Numpy ndarrays with the same shape.\n",
    "    \"\"\"\n",
    "    average = np.average(values, weights=weights,axis=0)\n",
    "    # Fast and numerically precise:\n",
    "    variance = np.average((values-average)**2, weights=weights)\n",
    "    return (average, math.sqrt(variance))\n",
    "average, std = weighted_avg_and_std(test_chi2_in_range[:,0],np.array(weight))"
   ]
  },
  {
   "cell_type": "code",
   "execution_count": null,
   "id": "93bf836d",
   "metadata": {},
   "outputs": [],
   "source": [
    "#read all the var files\n",
    "os.chdir(share_path + 'var')\n",
    "var = []\n",
    "for i in range(len(test_chi2_in_range)):\n",
    "    dp = pd.read_fwf(\"newvarfeh230.{}\".format(str(int(test_chi2_in_range[i,4]))),widths=[10,30],names=['value', 'name'])\n",
    "    var.append(dp['value'].values)\n",
    "var = np.array(var)"
   ]
  },
  {
   "cell_type": "code",
   "execution_count": null,
   "id": "775e6d51",
   "metadata": {},
   "outputs": [],
   "source": [
    "#generate surface boundary condition plot\n",
    "kttau0 = []\n",
    "for i in range(len(var)):\n",
    "    if var[i,6] == 0:\n",
    "        kttau0.append(var[i,3])\n",
    "plt.hist(kttau0,bins=15,alpha=0.8,density = True, label='Eddington-Gray')\n",
    "kttau1 = []\n",
    "for i in range(len(var)):\n",
    "    if var[i,6] == 1:\n",
    "        kttau1.append(var[i,3])\n",
    "plt.hist(kttau1,bins=15,alpha=0.8,density = True, label='Krishna-Swamy')\n",
    "kttau5 = []\n",
    "for i in range(len(var)):\n",
    "    if var[i,6] == 5:\n",
    "        kttau5.append(var[i,3])\n",
    "plt.hist(kttau5,bins=15,alpha=0.8,density = True, label='Phoenix')\n",
    "plt.legend(fontsize = 18)\n",
    "plt.xlabel('Mixing Length')\n",
    "plt.ylabel('Density')\n",
    "plt.savefig(M92_path + 'plots\\\\cmix_boundary.pdf', dpi=150,bbox_inches='tight');"
   ]
  },
  {
   "cell_type": "code",
   "execution_count": null,
   "id": "ab01ee1e",
   "metadata": {},
   "outputs": [],
   "source": [
    "#generate mixing length plot\n",
    "os.chdir(share_path + 'var')\n",
    "var1 = []\n",
    "for i in range(10000):\n",
    "    try:\n",
    "        dp = pd.read_fwf(\"newvarfeh230.{}\".format(i+10000),widths=[10,30],names=['value', 'name'])\n",
    "        var1.append(dp['value'].values)\n",
    "    except:\n",
    "        pass\n",
    "var1 = np.array(var1)"
   ]
  },
  {
   "cell_type": "code",
   "execution_count": null,
   "id": "b8c57f43",
   "metadata": {},
   "outputs": [],
   "source": [
    "plt.hist(var[:,3],bins=15,alpha=0.75,density = True, label='MC Fit')\n",
    "plt.hist(var1[:,3],bins=15,alpha=0.75,density = True, label='MC Input')\n",
    "plt.legend(fontsize = 18)\n",
    "plt.xlabel('Mixing Length')\n",
    "plt.ylabel('Density')\n",
    "plt.savefig(M92_path + 'plots\\\\cmix_in_and_fit.pdf', dpi=150,bbox_inches='tight');"
   ]
  },
  {
   "cell_type": "code",
   "execution_count": null,
   "id": "ae9dbed7",
   "metadata": {},
   "outputs": [],
   "source": [
    "#error budget\n",
    "chi2_weight = test_chi2_in_range.tolist()\n",
    "for i in range(len(chi2_weight)):\n",
    "    chi2_weight[i].append(weight[i])\n",
    "chi2_weight = np.array(chi2_weight)\n",
    "\n",
    "ages = []\n",
    "names = []\n",
    "stddevs = []\n",
    "for k in range(20):\n",
    "    retval = []\n",
    "    for i in range(len(test_chi2_in_range)):\n",
    "        dp = pd.read_fwf(\"newvarfeh230.{}\".format(str(int(test_chi2_in_range[i,4]))),widths=[10,30],names=['value', 'name'])\n",
    "        retval.append([test_chi2_in_range[i,0],test_chi2_in_range[i,3],dp.iloc[k].values[0], weight[i]])\n",
    "    retval = np.array(retval)\n",
    "    retval = retval[retval[:, 2].argsort()]\n",
    "    age, stddev = weighted_avg_and_std(retval[275:275*3,0],np.array(retval[275:275*3,-1]))\n",
    "    ages.append(age)\n",
    "    stddevs.append(stddev)\n",
    "    names.append(dp.iloc[k].values[1])\n",
    "dm = chi2_weight[chi2_weight[:, 1].argsort()]\n",
    "age, stddev = weighted_avg_and_std(dm[275:275*3,0],dm[275:275*3,-1])\n",
    "ages.append(age)\n",
    "stddevs.append(stddev)\n",
    "names.append('Distance Modulus')\n",
    "red = chi2_weight[chi2_weight[:, 2].argsort()]\n",
    "age, stddev = weighted_avg_and_std(red[275:275*3,0],red[275:275*3,-1])\n",
    "ages.append(age)\n",
    "stddevs.append(stddev)\n",
    "names.append('Reddening')\n",
    "names = ['[Fe/H]','Primordial He', r\"[$\\alpha$/Fe]\",'Mixing length','He diffusion', 'Heavy element diffusion','Surface boundary condition', 'Convective envelope overshoot', r'$p + p \\to H_2 + e + \\nu$', r'${ }^{3}He + { }^{3}He \\to { }^{4}He + p + p$', r'${ }^{3}He + { }^{4}He \\to { }^{2}H + \\gamma$', r'${ }^{12}C + p \\to { }^{13}N + \\gamma$ ', r'${ }^{13}C + p \\to { }^{14}N + \\gamma$', r'${ }^{14}N + p \\to { }^{15}O + \\gamma$', r'${ }^{16}N + p \\to { }^{17}F + \\gamma$','Low T opacities', \"High T opacities\",r'Triple-$alpha$ coeff', 'Plasma neutrino loses', 'Conductive opacities','Distance Modulus','Reddening']"
   ]
  },
  {
   "cell_type": "code",
   "execution_count": null,
   "id": "ec4c5681",
   "metadata": {},
   "outputs": [],
   "source": [
    "x = np.array(ages)[::-1]/1000\n",
    "y = np.arange(22)\n",
    "names.reverse()\n",
    "y_ticks_labels = names\n",
    "\n",
    "fig, ax = plt.subplots(1,1) \n",
    "ax.scatter(x,y)\n",
    "\n",
    "# Set number of ticks for x-axis\n",
    "ax.set_yticks(y)\n",
    "# Set ticks labels for x-axis\n",
    "ax.set_yticklabels(y_ticks_labels, rotation='horizontal',fontsize=10)\n",
    "ax2 = ax.twinx()\n",
    "ax2.errorbar(average/1000,10,xerr=std/1000,barsabove=True,ecolor='red')\n",
    "ax2.scatter(average/1000,10,c='red')\n",
    "y_ticks_labels = ['','','','','','','','','','','Combined','','','','','','','','','','','']\n",
    "# Set number of ticks for x-axis\n",
    "ax2.set_yticks(y)\n",
    "# Set ticks labels for x-axis\n",
    "ax2.set_yticklabels(y_ticks_labels, rotation='horizontal',fontsize=10)\n",
    "ax.set_xlabel('Ages (Gyr)');\n",
    "#plt.savefig(M92_path + 'plots\\\\error_budget_1.pdf', dpi=300);"
   ]
  },
  {
   "cell_type": "code",
   "execution_count": null,
   "id": "780791bb",
   "metadata": {},
   "outputs": [],
   "source": [
    "y = np.abs(np.array(ages) - average)/average*100\n",
    "x = np.arange(22)\n",
    "f, (ax, ax2) = plt.subplots(2, 1, sharex=True)\n",
    "\n",
    "# plot the same data on both axes\n",
    "ax2.bar(x, height=y)\n",
    "ax.axhline(y=std/average*100,linestyle='--',c='black', label='Combined Error')\n",
    "ax.legend(prop={'size': 18})\n",
    "\n",
    "# zoom-in / limit the view to different portions of the data\n",
    "ax2.set_ylim(0.0, 1.35)  # outliers only\n",
    "ax.set_ylim(5.05, 6.1)  # most of the data\n",
    "#ax2.axes.xaxis.set_visible(False)\n",
    "ax2.axes.xaxis.set_ticklabels([])\n",
    "#ax2.set_xticks(x)\n",
    "#ax2.set_xticklabels(names,rotation='vertical',fontsize=10)\n",
    "rects = ax2.patches\n",
    "labels = names\n",
    "for rect, label in zip(rects, labels):\n",
    "    height = rect.get_height()\n",
    "    ax2.text(rect.get_x() + rect.get_width() / 2, height+0.05, label,\n",
    "            ha='center', va='bottom',rotation='vertical',fontsize=12)\n",
    "# hide the spines between ax and ax2\n",
    "ax.spines['bottom'].set_visible(False)\n",
    "ax2.spines['top'].set_visible(False)\n",
    "ax.xaxis.tick_top()\n",
    "ax.tick_params(labeltop=False)  # don't put tick labels at the top\n",
    "ax2.xaxis.tick_bottom()\n",
    "d = .01  # how big to make the diagonal lines in axes coordinates\n",
    "# arguments to pass to plot, just so we don't keep repeating them\n",
    "kwargs = dict(transform=ax.transAxes, color='k', clip_on=False)\n",
    "ax.plot((-d, +d), (-d, +d), **kwargs)        # top-left diagonal\n",
    "ax.plot((1 - d, 1 + d), (-d, +d), **kwargs)  # top-right diagonal\n",
    "\n",
    "kwargs.update(transform=ax2.transAxes)  # switch to the bottom axes\n",
    "ax2.plot((-d, +d), (1 - d, 1 + d), **kwargs)  # bottom-left diagonal\n",
    "ax2.plot((1 - d, 1 + d), (1 - d, 1 + d), **kwargs)\n",
    "ax2.set_ylabel(r'Error on age ( $\\%$ )',fontsize=18)\n",
    "ax2.yaxis.set_label_coords(0.05, 0.5, transform=fig.transFigure);\n",
    "#plt.savefig(M92_path + 'plots\\\\error_budget_2.pdf', dpi=300);"
   ]
  },
  {
   "cell_type": "code",
   "execution_count": null,
   "id": "dc6db9e1",
   "metadata": {},
   "outputs": [],
   "source": [
    "import seaborn as sns\n",
    "retval = []\n",
    "for i in range(len(test_chi2_in_range)):\n",
    "    retval.append([test_chi2_in_range[i,0],test_chi2_in_range[i,1],test_chi2_in_range[i,2],test_chi2_in_range[i,3]])\n",
    "retval = np.array(retval)\n",
    "data = retval\n",
    "data[:,[0,1,2]] = data[:,[1,2,0]]\n",
    "for i in range(len(data)):\n",
    "    data[i,3] = weight[i]\n",
    "grouped_list = []\n",
    "for i in range(len(data)):\n",
    "    found = False\n",
    "    for j in range(len(grouped_list)):\n",
    "        if data[i][0] == grouped_list[j][0] and data[i][1] == grouped_list[j][1]:\n",
    "            grouped_list[j].append(data[i][2:])\n",
    "            found = True\n",
    "    if found == False:\n",
    "        append_val = data[i][:2].tolist()\n",
    "        append_val.append(data[i][2:])\n",
    "        grouped_list.append(append_val)\n",
    "grouped_age = []\n",
    "for i in range(len(grouped_list)):\n",
    "    append_val = grouped_list[i][:2]\n",
    "    average, std = weighted_avg_and_std(np.array(grouped_list[i][2:])[:,0],np.array(grouped_list[i][2:])[:,1])\n",
    "    append_val.append(average/1000)\n",
    "    grouped_age.append(append_val)\n",
    "df = pd.DataFrame(grouped_age,columns=['Distance Modulus','Reddening','Estimated Age'])\n",
    "df = df.pivot('Distance Modulus','Reddening','Estimated Age')"
   ]
  },
  {
   "cell_type": "code",
   "execution_count": null,
   "id": "0acb8f02",
   "metadata": {},
   "outputs": [],
   "source": [
    "DM = np.linspace(14.62,14.82,21)\n",
    "red = df.columns.values\n",
    "counts = np.zeros((len(DM),len(red)))\n",
    "for i in range(len(counts)):\n",
    "    for j in range(len(counts[i])):\n",
    "        if np.isnan(df[red[j]].values[i]) == True:\n",
    "            counts[i][j] = 0\n",
    "        else:\n",
    "            for k in range(len(data)):\n",
    "                if np.abs(data[k][0] - DM[i]) < 1e-5  and np.abs(data[k][1] - red[j]) < 1e-5:\n",
    "                    counts[i][j] += 1\n",
    "counts = counts/sum(sum(counts))"
   ]
  },
  {
   "cell_type": "code",
   "execution_count": null,
   "id": "13a128d7",
   "metadata": {},
   "outputs": [],
   "source": [
    "#plot heatmap for dm vs r\n",
    "mpl.rcParams['figure.figsize'] = [14, 14]\n",
    "ax = sns.heatmap(df,cmap=\"YlGnBu\",annot=counts,fmt='.2%',cbar_kws={\"label\": \"Age (Gyr)\"})\n",
    "#ax.axhline(y=20.9856,c='black',linewidth=1)\n",
    "#ax.axvline(x=3.994,c='black',linewidth=1)\n",
    "plt.savefig(M92_path + 'plots\\\\dm_vs_red.pdf', dpi=300);"
   ]
  },
  {
   "cell_type": "code",
   "execution_count": null,
   "id": "4afb41cd",
   "metadata": {},
   "outputs": [],
   "source": [
    "grouped_counts = np.array(grouped_age)\n",
    "ages = np.zeros((len(DM),len(red)))\n",
    "for i in range(len(DM)):\n",
    "    for j in range(len(red)):\n",
    "        for k in range(len(grouped_counts)):\n",
    "            if np.abs(grouped_counts[k][0] - DM[i]) < 1e-5 and np.abs(grouped_counts[k][1] - red[j]) < 1e-5:\n",
    "                ages[i,j] = grouped_age[k][2]\n",
    "                grouped_counts[k][2] = counts[i,j]*100\n",
    "df = pd.DataFrame(grouped_counts,columns=['Distance Modulus','Reddening','counts'])\n",
    "df = df.pivot('Distance Modulus','Reddening','counts')"
   ]
  },
  {
   "cell_type": "code",
   "execution_count": null,
   "id": "bc9835cc",
   "metadata": {},
   "outputs": [],
   "source": [
    "#plot heatmap for dm vs r\n",
    "mpl.rcParams['xtick.minor.visible'] = False\n",
    "mpl.rcParams['ytick.minor.visible'] = False\n",
    "mpl.rcParams['xtick.major.size'] = 0\n",
    "mpl.rcParams['ytick.major.size'] = 0\n",
    "mpl.rcParams['figure.figsize'] = [14, 14]\n",
    "ax = sns.heatmap(df,cmap=\"YlGnBu\",annot=ages,fmt='.2f')\n",
    "cbar = ax.collections[0].colorbar\n",
    "cbar.set_ticks([1, 2, 3, 4,5,6,7])\n",
    "cbar.set_ticklabels(['1\\%', '2\\%', '3\\%', '4\\%', '5\\%', '6\\%', '7\\%']);\n",
    "#ax.axhline(y=20.9856,c='black',linewidth=1)\n",
    "#ax.axvline(x=3.994,c='black',linewidth=1)\n",
    "plt.savefig(M92_path + 'plots\\\\dm_vs_red_2.pdf', dpi=300, bbox_inches='tight' );"
   ]
  },
  {
   "cell_type": "code",
   "execution_count": null,
   "id": "78eb1a3f",
   "metadata": {},
   "outputs": [],
   "source": [
    "DM_avg, DM_std = weighted_avg_and_std(data[:,0],data[:,-1])\n",
    "red_avg, red_std = weighted_avg_and_std(data[:,1],data[:,-1])"
   ]
  },
  {
   "cell_type": "code",
   "execution_count": null,
   "id": "11ff1406",
   "metadata": {},
   "outputs": [],
   "source": [
    "print(\"Distance Modulus = {} with std = {}\".format(DM_avg, DM_std))\n",
    "print(\"Reddeing = {} with std = {}\".format(red_avg, red_std))"
   ]
  },
  {
   "cell_type": "code",
   "execution_count": null,
   "id": "1fa71b63",
   "metadata": {},
   "outputs": [],
   "source": [
    "var"
   ]
  },
  {
   "cell_type": "code",
   "execution_count": null,
   "id": "ad1958d8",
   "metadata": {},
   "outputs": [],
   "source": [
    "#Read all var files\n",
    "total_var = var.T[:-1].tolist()\n",
    "total_var.append(data[:,0].tolist())\n",
    "total_var.append(data[:,1].tolist())\n",
    "total_var = np.array(total_var)"
   ]
  },
  {
   "cell_type": "code",
   "execution_count": null,
   "id": "e7fda771",
   "metadata": {},
   "outputs": [],
   "source": [
    "#generate covariance matrix\n",
    "m_cov = np.cov(total_var, aweights=data[:,-1])"
   ]
  },
  {
   "cell_type": "code",
   "execution_count": null,
   "id": "6cc6c134",
   "metadata": {},
   "outputs": [],
   "source": [
    "import statsmodels.api as sm"
   ]
  },
  {
   "cell_type": "code",
   "execution_count": null,
   "id": "06a03e01",
   "metadata": {},
   "outputs": [],
   "source": [
    "mod_wls = sm.WLS(data[:,2], np.vstack([total_var, np.ones(1100)]).T, weights=data[:,-1])\n",
    "res_wls = mod_wls.fit()\n",
    "print(res_wls.summary())"
   ]
  },
  {
   "cell_type": "code",
   "execution_count": null,
   "id": "b331a889",
   "metadata": {},
   "outputs": [],
   "source": [
    "#find total variance\n",
    "retval = 0\n",
    "for i in range(len(res_wls.params) - 1):\n",
    "    for j in range(len(res_wls.params) - 1):\n",
    "        if i == j:\n",
    "            retval += np.std(total_var.T[:,i])**2 *res_wls.params[i]**2\n",
    "        else:\n",
    "            retval += res_wls.params[i]*res_wls.params[j]*m_cov[i][j]\n",
    "np.sqrt(retval)"
   ]
  },
  {
   "cell_type": "code",
   "execution_count": null,
   "id": "bc2ed425",
   "metadata": {},
   "outputs": [],
   "source": [
    "#total variance without correlation\n",
    "retval = 0\n",
    "for i in range(len(res_wls.params) - 1):\n",
    "    for j in range(len(res_wls.params) - 1):\n",
    "        if i == j:\n",
    "            retval += np.std(total_var.T[:,i])**2 *res_wls.params[i]**2\n",
    "        else:\n",
    "            retval += 0\n",
    "np.sqrt(retval)"
   ]
  },
  {
   "cell_type": "code",
   "execution_count": null,
   "id": "89df08d0",
   "metadata": {},
   "outputs": [],
   "source": [
    "#create lists of names and error greater than 5%\n",
    "y = []\n",
    "for i in range(22):\n",
    "    y.append(np.abs(np.std(total_var.T[:,i]) *res_wls.params[i]/average *100))\n",
    "y = np.array(y)\n",
    "names = ['[Fe/H]','Primordial He', r\"[$\\alpha$/Fe]\",'Mixing length','He diffusion', 'Heavy element diffusion','Surface boundary condition', 'Convective envelope overshoot', r'$p + p \\to H_2 + e + \\nu$', r'${ }^{3}He + { }^{3}He \\to { }^{4}He + p + p$', r'${ }^{3}He + { }^{4}He \\to { }^{2}H + \\gamma$', r'${ }^{12}C + p \\to { }^{13}N + \\gamma$ ', r'${ }^{13}C + p \\to { }^{14}N + \\gamma$', r'${ }^{14}N + p \\to { }^{15}O + \\gamma$', r'${ }^{16}N + p \\to { }^{17}F + \\gamma$','Low T opacities', \"High T opacities\",r'Triple-$alpha$ coeff', 'Plasma neutrino loses', 'Conductive opacities','Distance','Reddening']\n",
    "others = 0\n",
    "mask = []\n",
    "for i in range(len(names)):\n",
    "    if y[i] > 0.05:\n",
    "#        print(names[i])\n",
    "#        print(y[i])\n",
    "        mask.append(i)\n",
    "    else:\n",
    "        others += y[i]**2\n",
    "names_update = []\n",
    "for i in mask:\n",
    "    names_update.append(names[i])\n",
    "names_update.append('Others')\n",
    "y = y[mask].tolist()\n",
    "y.append(np.sqrt(others))\n",
    "y = np.array(y)"
   ]
  },
  {
   "cell_type": "code",
   "execution_count": null,
   "id": "a13842a8",
   "metadata": {},
   "outputs": [],
   "source": [
    "std/average"
   ]
  },
  {
   "cell_type": "code",
   "execution_count": null,
   "id": "facbec62",
   "metadata": {},
   "outputs": [],
   "source": [
    "#Plot\n",
    "from matplotlib.offsetbox import AnchoredText\n",
    "mpl.rcParams['figure.figsize'] = [14, 10]\n",
    "mpl.rcParams['xtick.major.size'] = 0\n",
    "mpl.rcParams['xtick.minor.size'] = 0\n",
    "#y = np.abs(np.array(ages) - average)/average*100\n",
    "x = np.arange(15)\n",
    "fig, ax2 = plt.subplots(1,1)\n",
    "# plot the same data on both axes\n",
    "ax2.bar(x, height=y)\n",
    "ax2.axhline(y=np.sqrt(retval)/average*100,linestyle='--',c='black')\n",
    "#ax2.legend(prop={'size': 18})\n",
    "ax2.set_ylim(0.0, 6)  # outliers only\n",
    "#ax2.axes.xaxis.set_visible(False)\n",
    "#ax2.text(0.95, 0.95, r\"$\\textup{Combined Error:} 5.3\\%$\", transform=ax.transAxes, fontsize=14,verticalalignment='top')\n",
    "txt = ax2.text(1.8, 5.2, r\"$\\textup{Combined Error: } 5.43\\%$\", size=25, ha=\"center\", color=\"black\")\n",
    "\n",
    "#anchored_text = AnchoredText(\"Test\", loc=2)\n",
    "#ax2.add_artist(anchored_text)\n",
    "ax2.axes.xaxis.set_ticklabels([])\n",
    "#ax2.set_xticks(x)\n",
    "#ax2.set_xticklabels(names,rotation='vertical',fontsize=10)\n",
    "rects = ax2.patches\n",
    "labels = names_update\n",
    "for rect, label in zip(rects, labels):\n",
    "    height = rect.get_height()\n",
    "    ax2.text(rect.get_x() + rect.get_width() / 2, height+0.10, label,\n",
    "            ha='center', va='bottom',rotation='vertical',fontsize=20)\n",
    "# hide the spines between ax and ax2\n",
    "ax2.xaxis.tick_top()\n",
    "ax2.xaxis.tick_bottom()\n",
    "ax2.set_ylabel(r'Error on age ( $\\%$ )',fontsize=22)\n",
    "ax2.yaxis.set_label_coords(0.09, 0.5, transform=fig.transFigure)\n",
    "plt.savefig(M92_path + 'plots\\\\error_budget_4.png', dpi=300)\n",
    "plt.show();"
   ]
  },
  {
   "cell_type": "code",
   "execution_count": null,
   "id": "b3521d5f",
   "metadata": {},
   "outputs": [],
   "source": [
    "#try to do analysis with fixed distance modulus and reddening\n",
    "DM = 14.71\n",
    "Red = 0.0 \n",
    "idx = []\n",
    "for i in range(len(total_var[0])):\n",
    "    if total_var[-1][i] == Red and total_var[-2][i] == DM:\n",
    "        idx.append(i)\n",
    "partial_var = total_var[:,idx][:-2]\n",
    "var_len = len(idx)\n",
    "mod_wls = sm.WLS(data[idx,2], np.vstack([partial_var, np.ones(var_len)]).T, weights=data[idx,-1])\n",
    "res_wls = mod_wls.fit()\n",
    "print(res_wls.summary())"
   ]
  },
  {
   "cell_type": "code",
   "execution_count": null,
   "id": "30a61c33",
   "metadata": {},
   "outputs": [],
   "source": [
    "#create lists of names and error greater than 5%\n",
    "y = []\n",
    "for i in range(20):\n",
    "    y.append(np.abs(np.std(partial_var.T[:,i]) *res_wls.params[i]/average *100))\n",
    "y = np.array(y)\n",
    "names = ['[Fe/H]','Primordial He', r\"[$\\alpha$/Fe]\",'Mixing length','He diffusion', 'Heavy element diffusion','Surface boundary condition', 'Convective envelope overshoot', r'$p + p \\to H_2 + e + \\nu$', r'${ }^{3}He + { }^{3}He \\to { }^{4}He + p + p$', r'${ }^{3}He + { }^{4}He \\to { }^{2}H + \\gamma$', r'${ }^{12}C + p \\to { }^{13}N + \\gamma$ ', r'${ }^{13}C + p \\to { }^{14}N + \\gamma$', r'${ }^{14}N + p \\to { }^{15}O + \\gamma$', r'${ }^{16}N + p \\to { }^{17}F + \\gamma$','Low T opacities', \"High T opacities\",r'Triple-$alpha$ coeff', 'Plasma neutrino loses', 'Conductive opacities']\n",
    "others = 0\n",
    "mask = []\n",
    "for i in range(len(names)):\n",
    "    if y[i] > 0.25:\n",
    "#        print(names[i])\n",
    "#        print(y[i])\n",
    "        mask.append(i)\n",
    "    else:\n",
    "        others += y[i]**2\n",
    "names_update = []\n",
    "for i in mask:\n",
    "    names_update.append(names[i])\n",
    "names_update.append('Others')\n",
    "y = y[mask].tolist()\n",
    "y.append(np.sqrt(others))\n",
    "y = np.array(y)"
   ]
  },
  {
   "cell_type": "code",
   "execution_count": null,
   "id": "334ebac5",
   "metadata": {},
   "outputs": [],
   "source": [
    "#Plot\n",
    "#y = np.abs(np.array(ages) - average)/average*100\n",
    "x = np.arange(len(y))\n",
    "fig, ax2 = plt.subplots(1,1)\n",
    "# plot the same data on both axes\n",
    "ax2.bar(x, height=y)\n",
    "ax2.axhline(y=np.sqrt(retval)/average*100,linestyle='--',c='black', label='Combined Error')\n",
    "ax2.legend(prop={'size': 18})\n",
    "ax2.set_ylim(0.0, 6.3)  # outliers only\n",
    "#ax2.axes.xaxis.set_visible(False)\n",
    "ax2.axes.xaxis.set_ticklabels([])\n",
    "#ax2.set_xticks(x)\n",
    "#ax2.set_xticklabels(names,rotation='vertical',fontsize=10)\n",
    "rects = ax2.patches\n",
    "labels = names_update\n",
    "for rect, label in zip(rects, labels):\n",
    "    height = rect.get_height()\n",
    "    ax2.text(rect.get_x() + rect.get_width() / 2, height+0.10, label,\n",
    "            ha='center', va='bottom',rotation='vertical',fontsize=12)\n",
    "# hide the spines between ax and ax2\n",
    "ax2.xaxis.tick_top()\n",
    "ax2.xaxis.tick_bottom()\n",
    "ax2.set_ylabel(r'Error on age ( $\\%$ )',fontsize=18)\n",
    "ax2.yaxis.set_label_coords(0.05, 0.5, transform=fig.transFigure)"
   ]
  },
  {
   "cell_type": "code",
   "execution_count": null,
   "id": "43a8e895",
   "metadata": {},
   "outputs": [],
   "source": [
    "import corner\n",
    "mpl.rcParams['xtick.labelsize'] = 12\n",
    "mpl.rcParams['ytick.labelsize'] = 12\n",
    "fig = corner.corner(total_var[mask,:].T,weight=np.array(weight),labels=np.array(names)[mask],\n",
    "    show_titles=True,\n",
    "    title_kwargs={\"fontsize\": 12},\n",
    "    label_kwargs={\"fontsize\": 12});\n",
    "fig.show()"
   ]
  },
  {
   "cell_type": "code",
   "execution_count": null,
   "id": "d59f7530",
   "metadata": {},
   "outputs": [],
   "source": [
    "fig.savefig(M92_path + 'plots\\\\corner.pdf', dpi=300);"
   ]
  },
  {
   "cell_type": "code",
   "execution_count": null,
   "id": "61f0dfd2",
   "metadata": {},
   "outputs": [],
   "source": [
    "total_var[mask[0],:]"
   ]
  },
  {
   "cell_type": "code",
   "execution_count": null,
   "id": "5bac6cf3",
   "metadata": {},
   "outputs": [],
   "source": [
    "import scipy.stats\n",
    "for i in range(len(mask)):\n",
    "    for j in range(len(mask)):\n",
    "        if i > j:\n",
    "            corr, _ = scipy.stats.pearsonr(total_var[mask[i],:], total_var[mask[j],:])\n",
    "            print(\"Pearson correlation coefficient of {} and {} is {}\".format(names[mask[i]],names[mask[j]],corr))"
   ]
  },
  {
   "cell_type": "code",
   "execution_count": null,
   "id": "533ab58a",
   "metadata": {},
   "outputs": [],
   "source": [
    "corr"
   ]
  },
  {
   "cell_type": "code",
   "execution_count": null,
   "id": "98a16e23",
   "metadata": {},
   "outputs": [],
   "source": [
    "mpl.rcParams['xtick.labelsize'] = 12\n",
    "mpl.rcParams['ytick.labelsize'] = 12\n",
    "fig = corner.corner(partial_var[mask,:].T,weight=np.array(weight),labels=names,\n",
    "    show_titles=True,\n",
    "    title_kwargs={\"fontsize\": 12},\n",
    "    label_kwargs={\"fontsize\": 12});\n",
    "fig.show()"
   ]
  },
  {
   "cell_type": "code",
   "execution_count": null,
   "id": "350a09f3",
   "metadata": {},
   "outputs": [],
   "source": [
    "import corner\n",
    "mpl.rcParams['xtick.labelsize'] = 12\n",
    "mpl.rcParams['ytick.labelsize'] = 12\n",
    "fig = corner.corner(total_var[[0,1,2,3,4,6,-2,-1],:].T,weight=weight,labels=[#\"$\\[ Fe/H \\]$\",\n",
    "                                                                    #\"$\\[ \\alpha /Fe \\]$\",\n",
    "    r\"[Fe/H]\",\"Primodial He\",r\"[$\\alpha$/Fe]\",\"Mixing Length\",\n",
    "    \"He Difussion\",\"Surf Bound Cond\",\"Distance Modulus\",\"Reddening\"],\n",
    "    show_titles=True,\n",
    "    title_kwargs={\"fontsize\": 12},\n",
    "    label_kwargs={\"fontsize\": 12});\n",
    "fig.show()"
   ]
  },
  {
   "cell_type": "code",
   "execution_count": null,
   "id": "edbfd9c8",
   "metadata": {},
   "outputs": [],
   "source": [
    "import corner\n",
    "mpl.rcParams['xtick.labelsize'] = 12\n",
    "mpl.rcParams['ytick.labelsize'] = 12\n",
    "fig = corner.corner(np.vstack((total_var[[0,2,4,-2],:],test_chi2_in_range[:,0])).T,weight=weight,labels=[#\"$\\[ Fe/H \\]$\",\n",
    "                                                                    #\"$\\[ \\alpha /Fe \\]$\",\n",
    "    r\"[Fe/H]\",r\"[$\\alpha$/Fe]\",\n",
    "                                                                    \"He Difussion\",\n",
    "                                                                    \"Distance Modulus\", \"Age\"],\n",
    "    show_titles=True,\n",
    "    title_kwargs={\"fontsize\": 12},\n",
    "    label_kwargs={\"fontsize\": 12});\n",
    "fig.show()\n",
    "#plt.savefig(M92_path + 'plots\\\\Mixing_length_corner.png', dpi=300);"
   ]
  },
  {
   "cell_type": "code",
   "execution_count": null,
   "id": "dbfd2c1b",
   "metadata": {},
   "outputs": [],
   "source": [
    "import corner\n",
    "mpl.rcParams['xtick.labelsize'] = 12\n",
    "mpl.rcParams['ytick.labelsize'] = 12\n",
    "fig = corner.corner(total_var[[3,6],:].T,weight=weight,labels=[#\"$\\[ Fe/H \\]$\",\n",
    "                                                                    #\"$\\[ \\alpha /Fe \\]$\",\n",
    "    'Mixing Length', 'Surface Boundary Condtion'],\n",
    "    show_titles=True,\n",
    "    title_kwargs={\"fontsize\": 12},\n",
    "    label_kwargs={\"fontsize\": 12});\n",
    "fig.show()"
   ]
  },
  {
   "cell_type": "code",
   "execution_count": null,
   "id": "a25af6f3",
   "metadata": {},
   "outputs": [],
   "source": [
    "import seaborn as sns\n",
    "mpl.rcParams['figure.figsize'] = [14, 14]\n",
    "covset = np.zeros((len(names),len(names)))\n",
    "for i in range(len(names)):\n",
    "    for j in range(len(names)):\n",
    "        if i != j:\n",
    "            covset[i,j] = np.sqrt(np.abs(res_wls.params[i]*res_wls.params[j]*m_cov[i][j]))/retval*100"
   ]
  },
  {
   "cell_type": "code",
   "execution_count": null,
   "id": "adaa200c",
   "metadata": {},
   "outputs": [],
   "source": [
    "covset"
   ]
  },
  {
   "cell_type": "code",
   "execution_count": null,
   "id": "49ff258e",
   "metadata": {},
   "outputs": [],
   "source": [
    "ax = sns.heatmap(covset,cmap=\"YlGnBu\",xticklabels=names,yticklabels=names)"
   ]
  },
  {
   "cell_type": "code",
   "execution_count": null,
   "id": "4438d4ac",
   "metadata": {},
   "outputs": [],
   "source": [
    "ret_data = []\n",
    "sample_idx = np.random.randint(0,high=1100,size=1000000)\n",
    "for i in range(1000000):\n",
    "    if np.random.random() < weight[sample_idx[i]]:\n",
    "        ret_data.append(test_chi2_in_range[sample_idx[i],0])\n",
    "np.percentile(ret_data,[2.5,5,95,97.5])"
   ]
  },
  {
   "cell_type": "code",
   "execution_count": null,
   "id": "8703565d",
   "metadata": {},
   "outputs": [],
   "source": [
    "np.percentile(ret_data,[5,95])"
   ]
  },
  {
   "cell_type": "code",
   "execution_count": null,
   "id": "5175a6b6",
   "metadata": {},
   "outputs": [],
   "source": [
    "from scipy.stats import norm\n",
    "mpl.rcParams['figure.figsize'] = [10, 7]\n",
    "average, std = weighted_avg_and_std(test_chi2_in_range[:,0],np.array(weight))\n",
    "bins = np.linspace(11.7999,15.7999,21).tolist()\n",
    "bins.append(16.0001)\n",
    "bins = np.array(bins)\n",
    "plt.hist(test_chi2_in_range[:,0]/1000,weights=weight,density=True,bins = bins)\n",
    "x_axis = np.linspace(11.6,16.2,240)\n",
    "plt.plot(x_axis, norm.pdf(x_axis, average/1000, std/1000),'--',label='Best-fit Gaussian')\n",
    "plt.errorbar(average/1000, 0.3, xerr=np.array([[average/1000 - 12400/1000], [15400/1000 - average/1000]]),capsize=5,label=r\"95 \\% CI\",c='r')\n",
    "plt.scatter(average/1000, 0.3,s=50,c='r')\n",
    "plt.xlabel('Age (Gyr)')\n",
    "plt.ylabel('Density')\n",
    "plt.legend(fontsize=18)\n",
    "plt.savefig(M92_path + 'plots\\\\Age_distribution.pdf', dpi=300);"
   ]
  },
  {
   "cell_type": "code",
   "execution_count": null,
   "id": "87056af4",
   "metadata": {},
   "outputs": [],
   "source": [
    "mpl.rcParams['figure.figsize'] = [22, 11]\n",
    "figure, axis = plt.subplots(2, 4)\n",
    "sns.kdeplot(x=total_var[0,:], y=test_chi2_in_range[:,0]/1000, cmap=\"Blues\", shade=True, bw_adjust=.5, ax=axis[0,0])\n",
    "axis[0,0].set_xlim(-2.6,-1.9)\n",
    "sns.kdeplot(x=total_var[2,:], y=test_chi2_in_range[:,0]/1000, cmap=\"Blues\", shade=True, bw_adjust=.5, ax=axis[0,1])\n",
    "sns.kdeplot(x=total_var[4,:], y=test_chi2_in_range[:,0]/1000, cmap=\"Blues\", shade=True, bw_adjust=.5, ax=axis[0,2])\n",
    "sns.kdeplot(x=total_var[-2,:], y=test_chi2_in_range[:,0]/1000, cmap=\"Blues\", shade=True, bw_adjust=.5, ax=axis[0,3])\n",
    "axis[1,0].hist(total_var[0,:],density=True,alpha=0.65, label='MC Fit', bins=np.linspace(-2.6,-1.9,15))\n",
    "axis[1,1].hist(total_var[2,:],density=True,alpha=0.65, label='MC Fit', bins=np.linspace(0.2,0.6,9))\n",
    "axis[1,2].hist(total_var[4,:],density=True,alpha=0.65, label='MC Fit')\n",
    "axis[1,3].hist(total_var[-2,:],density=True,alpha=0.65, label='MC Fit',bins=np.linspace(14.62,14.83,22))\n",
    "axis[1,0].hist(var1[:,0],density=True,alpha=0.65, label='MC Input', bins=np.linspace(-2.6,-1.9,15))\n",
    "axis[1,1].hist(var1[:,2],density=True,alpha=0.65, bins=np.linspace(0.2,0.6,9))\n",
    "axis[1,2].hist(var1[:,4],density=True,alpha=0.65)\n",
    "axis[1,3].hist(np.linspace(14.62,14.82,21),density=True,alpha=0.65, label='MC Input', bins=np.linspace(14.62,14.83,22))\n",
    "axis[1,0].set(xlabel = \"[Fe/H]\")\n",
    "axis[1,1].set(xlabel = r\"[$\\alpha$/Fe]\")\n",
    "axis[1,2].set(xlabel = \"He Diffusion\")\n",
    "axis[1,3].set(xlabel = \"Distance Modulus\")\n",
    "axis[0,0].set(ylabel = \"Age (Gyr)\")\n",
    "axis[1,0].set(ylabel = \"Density\")\n",
    "axis[1,0].legend(fontsize = 15)\n",
    "plt.savefig(M92_path + 'plots\\\\MC_param_age_corr.png', dpi=300)\n",
    "plt.show();"
   ]
  },
  {
   "cell_type": "code",
   "execution_count": null,
   "id": "d00f93e9",
   "metadata": {},
   "outputs": [],
   "source": [
    "total_var[-2,:]"
   ]
  },
  {
   "cell_type": "code",
   "execution_count": null,
   "id": "030e7b97",
   "metadata": {},
   "outputs": [],
   "source": [
    "plt.hist(cdf)"
   ]
  },
  {
   "cell_type": "code",
   "execution_count": null,
   "id": "c0717422",
   "metadata": {},
   "outputs": [],
   "source": [
    "len(cdf[cdf<0.1])"
   ]
  },
  {
   "cell_type": "code",
   "execution_count": null,
   "id": "8e992517",
   "metadata": {},
   "outputs": [],
   "source": [
    "counts = 0\n",
    "for i in range(1100):\n",
    "    if cdf[i] < 0.1:\n",
    "        counts += 1\n",
    "counts"
   ]
  },
  {
   "cell_type": "code",
   "execution_count": null,
   "id": "ff5f33c5",
   "metadata": {},
   "outputs": [],
   "source": []
  }
 ],
 "metadata": {
  "kernelspec": {
   "display_name": "Python 3 (ipykernel)",
   "language": "python",
   "name": "python3"
  },
  "language_info": {
   "codemirror_mode": {
    "name": "ipython",
    "version": 3
   },
   "file_extension": ".py",
   "mimetype": "text/x-python",
   "name": "python",
   "nbconvert_exporter": "python",
   "pygments_lexer": "ipython3",
   "version": "3.10.9"
  }
 },
 "nbformat": 4,
 "nbformat_minor": 5
}
